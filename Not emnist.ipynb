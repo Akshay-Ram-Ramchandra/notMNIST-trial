{
 "cells": [
  {
   "cell_type": "code",
   "execution_count": 2,
   "metadata": {},
   "outputs": [],
   "source": [
    "import numpy as np\n",
    "import tensorflow as tf\n",
    "from tensorflow import keras\n",
    "from tensorflow.keras import layers\n",
    "import os\n",
    "from tensorflow.keras.preprocessing.image import ImageDataGenerator\n",
    "from tensorflow.keras.models import Sequential\n",
    "from tensorflow.keras.layers import Dense, Conv2D, MaxPooling2D, Flatten\n",
    "from tensorflow.keras.activations import relu, softmax\n",
    "from tensorflow.keras import activations\n",
    "from tensorflow.keras.losses import CategoricalCrossentropy\n",
    "import tensorflow as tf\n",
    "import datetime\n",
    "import matplotlib.pyplot as plt\n",
    "from PIL import Image"
   ]
  },
  {
   "cell_type": "code",
   "execution_count": 3,
   "metadata": {},
   "outputs": [
    {
     "data": {
      "text/plain": [
       "['.idea',\n",
       " '.ipynb_checkpoints',\n",
       " '1Notmnist dataset - Copy.ipynb',\n",
       " '1Notmnist dataset.ipynb',\n",
       " '2156_3632_compressed_notMNIST_small.tar.gz.zip',\n",
       " 'Checkpoint resnet50small',\n",
       " 'Implementaion of vgg16-Small.ipynb',\n",
       " 'Implementaion of vgg16.ipynb',\n",
       " 'logs',\n",
       " 'mymodel',\n",
       " 'mymodel1overfit',\n",
       " 'mymodelsmall',\n",
       " 'mymodelsmallwz',\n",
       " 'Not emnist.ipynb',\n",
       " 'notMNIST_large',\n",
       " 'notMNIST_large.tar.gz',\n",
       " 'notMNIST_small',\n",
       " 'OPENCV OK .ipynb',\n",
       " 'OPENCV OK Real.ipynb',\n",
       " 'resnet50 check points',\n",
       " 'Resnet50 for notemnist.ipynb',\n",
       " 'Resnet50 for notemnistisit-Copy1.ipynb',\n",
       " 'Resnet50 for notemnistisit-SMALL.ipynb',\n",
       " 'Resnet50 for notemnistisit.ipynb',\n",
       " 'synthetic',\n",
       " 'unicode',\n",
       " 'Untitled.ipynb',\n",
       " 'VGG16small check points']"
      ]
     },
     "execution_count": 3,
     "metadata": {},
     "output_type": "execute_result"
    }
   ],
   "source": [
    "os.listdir()"
   ]
  },
  {
   "cell_type": "code",
   "execution_count": 4,
   "metadata": {},
   "outputs": [],
   "source": [
    "classes = os.listdir(r'C:\\Users\\offic\\Documents\\GitStuff\\NOTEMNIST\\notMNIST_large')"
   ]
  },
  {
   "cell_type": "code",
   "execution_count": 5,
   "metadata": {},
   "outputs": [
    {
     "data": {
      "text/plain": [
       "['A', 'B', 'C', 'D', 'E', 'F', 'G', 'H', 'I', 'J']"
      ]
     },
     "execution_count": 5,
     "metadata": {},
     "output_type": "execute_result"
    }
   ],
   "source": [
    "classes"
   ]
  },
  {
   "cell_type": "code",
   "execution_count": 6,
   "metadata": {},
   "outputs": [],
   "source": [
    "image_gen = ImageDataGenerator(validation_split = 0.3, rescale=1.0/255.0, zoom_range = [0.5,2])"
   ]
  },
  {
   "cell_type": "code",
   "execution_count": 7,
   "metadata": {},
   "outputs": [
    {
     "name": "stdout",
     "output_type": "stream",
     "text": [
      "Found 370385 images belonging to 10 classes.\n"
     ]
    }
   ],
   "source": [
    "train_gen = image_gen.flow_from_directory(r'C:\\Users\\offic\\Documents\\GitStuff\\NOTEMNIST\\notMNIST_large',\n",
    "                                          target_size = (28,28),\n",
    "                                          classes = classes,\n",
    "                                          subset = 'training',\n",
    "                                          batch_size = 32,\n",
    "                                          shuffle = True\n",
    "                                         )"
   ]
  },
  {
   "cell_type": "code",
   "execution_count": 8,
   "metadata": {},
   "outputs": [
    {
     "name": "stdout",
     "output_type": "stream",
     "text": [
      "Found 158729 images belonging to 10 classes.\n"
     ]
    }
   ],
   "source": [
    "test_gen = image_gen.flow_from_directory(r'C:\\Users\\offic\\Documents\\GitStuff\\NOTEMNIST\\notMNIST_large',\n",
    "                                         target_size = (28,28),\n",
    "                                         classes = classes,\n",
    "                                         subset = 'validation',\n",
    "                                         batch_size = 32,\n",
    "                                         shuffle = True\n",
    "                                         )"
   ]
  },
  {
   "cell_type": "code",
   "execution_count": 18,
   "metadata": {},
   "outputs": [],
   "source": [
    "train_steps = (train_gen.samples//32)\n",
    "test_steps = (test_gen.samples // 32)"
   ]
  },
  {
   "cell_type": "code",
   "execution_count": 10,
   "metadata": {},
   "outputs": [],
   "source": [
    " os.chdir(r'C:\\Users\\offic\\Documents\\GitStuff\\NOTEMNIST')"
   ]
  },
  {
   "cell_type": "code",
   "execution_count": 14,
   "metadata": {},
   "outputs": [],
   "source": [
    "keras.backend.clear_session()\n",
    "model = Sequential()\n",
    "model.add(Conv2D(256,kernel_size = (3,3), input_shape = (28,28,3), padding = 'valid',activation='relu'))\n",
    "model.add(Conv2D(128,kernel_size = (3,3), padding = 'valid',activation='relu'))\n",
    "model.add(MaxPooling2D(pool_size=2))\n",
    "model.add(Conv2D(64,kernel_size = (3,3), padding = 'valid',activation='relu'))\n",
    "model.add(MaxPooling2D(pool_size=2))\n",
    "model.add(Flatten())\n",
    "model.add(Dense(10, activation='softmax'))"
   ]
  },
  {
   "cell_type": "code",
   "execution_count": 15,
   "metadata": {},
   "outputs": [
    {
     "name": "stdout",
     "output_type": "stream",
     "text": [
      "Model: \"sequential\"\n",
      "_________________________________________________________________\n",
      "Layer (type)                 Output Shape              Param #   \n",
      "=================================================================\n",
      "conv2d (Conv2D)              (None, 26, 26, 256)       7168      \n",
      "_________________________________________________________________\n",
      "conv2d_1 (Conv2D)            (None, 24, 24, 128)       295040    \n",
      "_________________________________________________________________\n",
      "max_pooling2d (MaxPooling2D) (None, 12, 12, 128)       0         \n",
      "_________________________________________________________________\n",
      "conv2d_2 (Conv2D)            (None, 10, 10, 64)        73792     \n",
      "_________________________________________________________________\n",
      "max_pooling2d_1 (MaxPooling2 (None, 5, 5, 64)          0         \n",
      "_________________________________________________________________\n",
      "flatten (Flatten)            (None, 1600)              0         \n",
      "_________________________________________________________________\n",
      "dense (Dense)                (None, 10)                16010     \n",
      "=================================================================\n",
      "Total params: 392,010\n",
      "Trainable params: 392,010\n",
      "Non-trainable params: 0\n",
      "_________________________________________________________________\n"
     ]
    }
   ],
   "source": [
    "model.summary()"
   ]
  },
  {
   "cell_type": "code",
   "execution_count": 16,
   "metadata": {},
   "outputs": [],
   "source": [
    "model.compile(optimizer = 'adam',loss = 'CategoricalCrossentropy',  metrics = ['accuracy'])"
   ]
  },
  {
   "cell_type": "code",
   "execution_count": 19,
   "metadata": {},
   "outputs": [
    {
     "name": "stdout",
     "output_type": "stream",
     "text": [
      "Epoch 1/1000\n",
      "    2/11574 [..............................] - ETA: 19:47 - loss: 0.4042 - accuracy: 0.8750WARNING:tensorflow:Method (on_train_batch_end) is slow compared to the batch update (0.100606). Check your callbacks.\n",
      "11574/11574 [==============================] - 305s 26ms/step - loss: 0.4374 - accuracy: 0.8720 - val_loss: 0.3799 - val_accuracy: 0.8914 - lr: 0.0010\n",
      "Epoch 2/1000\n",
      "11574/11574 [==============================] - 303s 26ms/step - loss: 0.4174 - accuracy: 0.8785 - val_loss: 0.3663 - val_accuracy: 0.8947 - lr: 0.0010\n",
      "Epoch 3/1000\n",
      "11574/11574 [==============================] - 305s 26ms/step - loss: 0.4081 - accuracy: 0.8810 - val_loss: 0.3608 - val_accuracy: 0.8974 - lr: 0.0010\n",
      "Epoch 4/1000\n",
      "11574/11574 [==============================] - 308s 27ms/step - loss: 0.4018 - accuracy: 0.8824 - val_loss: 0.3659 - val_accuracy: 0.8945 - lr: 0.0010\n",
      "Epoch 5/1000\n",
      "11574/11574 [==============================] - 305s 26ms/step - loss: 0.3981 - accuracy: 0.8833 - val_loss: 0.3571 - val_accuracy: 0.8976 - lr: 0.0010\n",
      "Epoch 6/1000\n",
      "11574/11574 [==============================] - 305s 26ms/step - loss: 0.3940 - accuracy: 0.8845 - val_loss: 0.3580 - val_accuracy: 0.8981 - lr: 0.0010\n",
      "Epoch 7/1000\n",
      "11574/11574 [==============================] - 326s 28ms/step - loss: 0.3906 - accuracy: 0.8851 - val_loss: 0.3547 - val_accuracy: 0.8984 - lr: 0.0010\n",
      "Epoch 8/1000\n",
      "11574/11574 [==============================] - 378s 33ms/step - loss: 0.3890 - accuracy: 0.8857 - val_loss: 0.3579 - val_accuracy: 0.8985 - lr: 0.0010\n",
      "Epoch 9/1000\n",
      "11574/11574 [==============================] - 393s 34ms/step - loss: 0.3869 - accuracy: 0.8865 - val_loss: 0.3536 - val_accuracy: 0.8984 - lr: 0.0010\n",
      "Epoch 10/1000\n",
      "11574/11574 [==============================] - 311s 27ms/step - loss: 0.3852 - accuracy: 0.8869 - val_loss: 0.3534 - val_accuracy: 0.8986 - lr: 0.0010\n",
      "Epoch 11/1000\n",
      "11574/11574 [==============================] - 306s 26ms/step - loss: 0.3845 - accuracy: 0.8871 - val_loss: 0.3518 - val_accuracy: 0.8994 - lr: 0.0010\n",
      "Epoch 12/1000\n",
      "11574/11574 [==============================] - 303s 26ms/step - loss: 0.3802 - accuracy: 0.8881 - val_loss: 0.3535 - val_accuracy: 0.8982 - lr: 0.0010\n",
      "Epoch 13/1000\n",
      "11574/11574 [==============================] - 304s 26ms/step - loss: 0.3817 - accuracy: 0.8877 - val_loss: 0.3501 - val_accuracy: 0.8990 - lr: 0.0010\n",
      "Epoch 14/1000\n",
      "11574/11574 [==============================] - 310s 27ms/step - loss: 0.3801 - accuracy: 0.8882 - val_loss: 0.3480 - val_accuracy: 0.9003 - lr: 0.0010\n",
      "Epoch 15/1000\n",
      "11574/11574 [==============================] - 307s 27ms/step - loss: 0.3794 - accuracy: 0.8883 - val_loss: 0.3503 - val_accuracy: 0.9000 - lr: 0.0010\n",
      "Epoch 16/1000\n",
      "11574/11574 [==============================] - 303s 26ms/step - loss: 0.3795 - accuracy: 0.8883 - val_loss: 0.3614 - val_accuracy: 0.8975 - lr: 0.0010\n",
      "Epoch 17/1000\n",
      "11574/11574 [==============================] - 298s 26ms/step - loss: 0.3782 - accuracy: 0.8888 - val_loss: 0.3515 - val_accuracy: 0.8990 - lr: 0.0010\n",
      "dict_keys(['loss', 'accuracy', 'val_loss', 'val_accuracy', 'lr'])\n"
     ]
    },
    {
     "data": {
      "image/png": "[encoded data removed]",
      "text/plain": [
       "<Figure size 432x288 with 1 Axes>"
      ]
     },
     "metadata": {
      "needs_background": "light"
     },
     "output_type": "display_data"
    }
   ],
   "source": [
    "es = tf.keras.callbacks.EarlyStopping(monitor='val_loss', \n",
    "                                      mode = 'auto', \n",
    "                                      patience=3,\n",
    "                                      restore_best_weights=True, \n",
    "                                     )\n",
    "reduce_lr = tf.keras.callbacks.ReduceLROnPlateau(monitor='val_loss', \n",
    "                              patience=3, min_lr=0.00001)\n",
    "\n",
    "log_dir = r\"C:\\Users\\offic\\Documents\\GitStuff\\NOTEMNIST\\logs\\fit\" + datetime.datetime.now().strftime(\"%Y%m%d-%H%M%S\")\n",
    "tensorboard_callback = tf.keras.callbacks.TensorBoard(log_dir=log_dir, histogram_freq=1)\n",
    "\n",
    "\n",
    "history = model.fit(train_gen,\n",
    "                    steps_per_epoch = train_steps,\n",
    "                    epochs=1000, \n",
    "                    callbacks=[es, reduce_lr, tensorboard_callback],\n",
    "                    validation_data = test_gen,\n",
    "                    validation_steps = test_steps\n",
    "                   )\n",
    "\n",
    "print(history.history.keys())\n",
    "plt.plot(history.history['loss'])\n",
    "plt.plot(history.history['val_loss'])\n",
    "plt.title('CatCrEntr')\n",
    "plt.ylabel('CrEntr')\n",
    "plt.xlabel('epoch')\n",
    "plt.legend(['train', 'test'], loc='upper left')\n",
    "plt.show()"
   ]
  },
  {
   "cell_type": "code",
   "execution_count": 20,
   "metadata": {},
   "outputs": [
    {
     "name": "stdout",
     "output_type": "stream",
     "text": [
      "WARNING:tensorflow:From c:\\users\\offic\\venv\\lib\\site-packages\\tensorflow\\python\\ops\\resource_variable_ops.py:1813: calling BaseResourceVariable.__init__ (from tensorflow.python.ops.resource_variable_ops) with constraint is deprecated and will be removed in a future version.\n",
      "Instructions for updating:\n",
      "If using Keras pass *_constraint arguments to layers.\n",
      "INFO:tensorflow:Assets written to: C:\\Users\\offic\\Documents\\GitStuff\\NOTEMNIST\\first_model\\assets\n"
     ]
    }
   ],
   "source": [
    "model.save(r'C:\\Users\\offic\\Documents\\GitStuff\\NOTEMNIST\\first_model')"
   ]
  },
  {
   "cell_type": "code",
   "execution_count": 43,
   "metadata": {},
   "outputs": [],
   "source": [
    "keras.backend.clear_session()\n",
    "model = Sequential()\n",
    "model.add(Conv2D(256,kernel_size = (3,3), input_shape = (28,28,3), padding = 'same',activation='relu'))\n",
    "model.add(Conv2D(128,kernel_size = (3,3), padding = 'same',activation='relu'))\n",
    "model.add(MaxPooling2D(pool_size=2))\n",
    "model.add(Conv2D(64,kernel_size = (3,3), padding = 'same',activation='relu'))\n",
    "model.add(MaxPooling2D(pool_size=2))\n",
    "model.add(Flatten())\n",
    "model.add(Dense(10, activation='softmax'))"
   ]
  },
  {
   "cell_type": "code",
   "execution_count": 44,
   "metadata": {},
   "outputs": [],
   "source": [
    "model.compile(optimizer = 'adam',loss = 'CategoricalCrossentropy',  metrics = ['accuracy'])"
   ]
  },
  {
   "cell_type": "code",
   "execution_count": 45,
   "metadata": {},
   "outputs": [
    {
     "name": "stdout",
     "output_type": "stream",
     "text": [
      "Epoch 1/1000\n",
      "    2/13227 [..............................] - ETA: 1:20:38 - loss: 46.9585 - accuracy: 0.0781WARNING:tensorflow:Method (on_train_batch_end) is slow compared to the batch update (0.367834). Check your callbacks.\n",
      "13227/13227 [==============================] - 198s 15ms/step - loss: 0.4391 - accuracy: 0.8816 - val_loss: 0.3240 - val_accuracy: 0.9111 - lr: 0.0010\n",
      "Epoch 2/1000\n",
      "13227/13227 [==============================] - 200s 15ms/step - loss: 0.3594 - accuracy: 0.8979 - val_loss: 0.3210 - val_accuracy: 0.9131 - lr: 0.0010\n",
      "Epoch 3/1000\n",
      "13227/13227 [==============================] - 196s 15ms/step - loss: 0.3397 - accuracy: 0.9033 - val_loss: 0.3116 - val_accuracy: 0.9140 - lr: 0.0010\n",
      "Epoch 4/1000\n",
      "13227/13227 [==============================] - 196s 15ms/step - loss: 0.3280 - accuracy: 0.9064 - val_loss: 0.3019 - val_accuracy: 0.9169 - lr: 0.0010\n",
      "Epoch 5/1000\n",
      "13227/13227 [==============================] - 196s 15ms/step - loss: 0.3198 - accuracy: 0.9082 - val_loss: 0.3134 - val_accuracy: 0.9165 - lr: 0.0010\n",
      "Epoch 6/1000\n",
      "13227/13227 [==============================] - 195s 15ms/step - loss: 0.3156 - accuracy: 0.9098 - val_loss: 0.3060 - val_accuracy: 0.9160 - lr: 0.0010\n",
      "Epoch 7/1000\n",
      "13227/13227 [==============================] - 197s 15ms/step - loss: 0.3101 - accuracy: 0.9112 - val_loss: 0.3021 - val_accuracy: 0.9158 - lr: 0.0010\n",
      "dict_keys(['loss', 'accuracy', 'val_loss', 'val_accuracy', 'lr'])\n"
     ]
    },
    {
     "ename": "KeyError",
     "evalue": "'CategoricalCrossentropy'",
     "output_type": "error",
     "traceback": [
      "\u001b[1;31m---------------------------------------------------------------------------\u001b[0m",
      "\u001b[1;31mKeyError\u001b[0m                                  Traceback (most recent call last)",
      "\u001b[1;32m<ipython-input-45-cf809133f824>\u001b[0m in \u001b[0;36m<module>\u001b[1;34m\u001b[0m\n\u001b[0;32m     20\u001b[0m \u001b[1;33m\u001b[0m\u001b[0m\n\u001b[0;32m     21\u001b[0m \u001b[0mprint\u001b[0m\u001b[1;33m(\u001b[0m\u001b[0mhistory\u001b[0m\u001b[1;33m.\u001b[0m\u001b[0mhistory\u001b[0m\u001b[1;33m.\u001b[0m\u001b[0mkeys\u001b[0m\u001b[1;33m(\u001b[0m\u001b[1;33m)\u001b[0m\u001b[1;33m)\u001b[0m\u001b[1;33m\u001b[0m\u001b[1;33m\u001b[0m\u001b[0m\n\u001b[1;32m---> 22\u001b[1;33m \u001b[0mplt\u001b[0m\u001b[1;33m.\u001b[0m\u001b[0mplot\u001b[0m\u001b[1;33m(\u001b[0m\u001b[0mhistory\u001b[0m\u001b[1;33m.\u001b[0m\u001b[0mhistory\u001b[0m\u001b[1;33m[\u001b[0m\u001b[1;34m'CategoricalCrossentropy'\u001b[0m\u001b[1;33m]\u001b[0m\u001b[1;33m)\u001b[0m\u001b[1;33m\u001b[0m\u001b[1;33m\u001b[0m\u001b[0m\n\u001b[0m\u001b[0;32m     23\u001b[0m \u001b[0mplt\u001b[0m\u001b[1;33m.\u001b[0m\u001b[0mplot\u001b[0m\u001b[1;33m(\u001b[0m\u001b[0mhistory\u001b[0m\u001b[1;33m.\u001b[0m\u001b[0mhistory\u001b[0m\u001b[1;33m[\u001b[0m\u001b[1;34m'val_loss'\u001b[0m\u001b[1;33m]\u001b[0m\u001b[1;33m)\u001b[0m\u001b[1;33m\u001b[0m\u001b[1;33m\u001b[0m\u001b[0m\n\u001b[0;32m     24\u001b[0m \u001b[0mplt\u001b[0m\u001b[1;33m.\u001b[0m\u001b[0mtitle\u001b[0m\u001b[1;33m(\u001b[0m\u001b[1;34m'CatCrEntr'\u001b[0m\u001b[1;33m)\u001b[0m\u001b[1;33m\u001b[0m\u001b[1;33m\u001b[0m\u001b[0m\n",
      "\u001b[1;31mKeyError\u001b[0m: 'CategoricalCrossentropy'"
     ]
    }
   ],
   "source": [
    "es = tf.keras.callbacks.EarlyStopping(monitor='val_loss', \n",
    "                                      mode = 'auto', \n",
    "                                      patience=3,\n",
    "                                      restore_best_weights=True, \n",
    "                                     )\n",
    "reduce_lr = tf.keras.callbacks.ReduceLROnPlateau(monitor='val_loss', \n",
    "                              patience=3, min_lr=0.00001)\n",
    "\n",
    "log_dir = r\"C:\\Users\\offic\\Documents\\GitStuff\\NOTEMNIST\\logs\\fit\" + datetime.datetime.now().strftime(\"%Y%m%d-%H%M%S\")\n",
    "tensorboard_callback = tf.keras.callbacks.TensorBoard(log_dir=log_dir, histogram_freq=1)\n",
    "\n",
    "\n",
    "history = model.fit(train_gen,\n",
    "                    steps_per_epoch = train_steps,\n",
    "                    epochs=1000, \n",
    "                    callbacks=[es, reduce_lr, tensorboard_callback],\n",
    "                    validation_data = test_gen,\n",
    "                    validation_steps = test_steps\n",
    "                   )\n",
    "\n",
    "print(history.history.keys())\n",
    "plt.plot(history.history['CategoricalCrossentropy'])\n",
    "plt.plot(history.history['val_loss'])\n",
    "plt.title('CatCrEntr')\n",
    "plt.ylabel('CrEntr')\n",
    "plt.xlabel('epoch')\n",
    "plt.legend(['train', 'test'], loc='upper left')\n",
    "plt.show()"
   ]
  },
  {
   "cell_type": "code",
   "execution_count": 47,
   "metadata": {},
   "outputs": [],
   "source": [
    "keras.backend.clear_session()\n",
    "model = Sequential()\n",
    "model.add(Conv2D(64,kernel_size = (3,3), input_shape = (28,28,3), padding = 'same',activation='relu'))\n",
    "model.add(Conv2D(128,kernel_size = (3,3), padding = 'same',activation='relu'))\n",
    "model.add(MaxPooling2D(pool_size=2))\n",
    "model.add(Conv2D(256,kernel_size = (3,3), padding = 'same',activation='relu'))\n",
    "model.add(MaxPooling2D(pool_size=2))\n",
    "model.add(Flatten())\n",
    "model.add(Dense(10, activation='softmax'))\n",
    "model.compile(optimizer = 'adam',loss = 'CategoricalCrossentropy',  metrics = ['accuracy'])"
   ]
  },
  {
   "cell_type": "code",
   "execution_count": 49,
   "metadata": {},
   "outputs": [
    {
     "name": "stdout",
     "output_type": "stream",
     "text": [
      "Epoch 1/1000\n",
      "    2/13227 [..............................] - ETA: 22:01 - loss: 0.2400 - accuracy: 0.9531WARNING:tensorflow:Method (on_train_batch_end) is slow compared to the batch update (0.102422). Check your callbacks.\n",
      "13227/13227 [==============================] - 298s 23ms/step - loss: 0.2728 - accuracy: 0.9219 - val_loss: 0.2772 - val_accuracy: 0.9237 - lr: 1.0000e-04\n",
      "Epoch 2/1000\n",
      "13227/13227 [==============================] - 168s 13ms/step - loss: 0.2552 - accuracy: 0.9265 - val_loss: 0.2772 - val_accuracy: 0.9244 - lr: 1.0000e-04\n",
      "Epoch 3/1000\n",
      "13227/13227 [==============================] - 151s 11ms/step - loss: 0.2436 - accuracy: 0.9298 - val_loss: 0.2770 - val_accuracy: 0.9243 - lr: 1.0000e-04\n",
      "Epoch 4/1000\n",
      "13227/13227 [==============================] - 151s 11ms/step - loss: 0.2336 - accuracy: 0.9325 - val_loss: 0.2779 - val_accuracy: 0.9247 - lr: 1.0000e-04\n",
      "Epoch 5/1000\n",
      "13227/13227 [==============================] - 151s 11ms/step - loss: 0.2242 - accuracy: 0.9352 - val_loss: 0.2842 - val_accuracy: 0.9247 - lr: 1.0000e-04\n",
      "Epoch 6/1000\n",
      "13227/13227 [==============================] - 151s 11ms/step - loss: 0.2151 - accuracy: 0.9378 - val_loss: 0.2862 - val_accuracy: 0.9241 - lr: 1.0000e-04\n",
      "Epoch 7/1000\n",
      "13227/13227 [==============================] - 168s 13ms/step - loss: 0.1983 - accuracy: 0.9429 - val_loss: 0.2899 - val_accuracy: 0.9237 - lr: 1.0000e-05\n",
      "Epoch 8/1000\n",
      "13227/13227 [==============================] - 358s 27ms/step - loss: 0.1959 - accuracy: 0.9438 - val_loss: 0.2905 - val_accuracy: 0.9238 - lr: 1.0000e-05\n",
      "dict_keys(['loss', 'accuracy', 'val_loss', 'val_accuracy', 'lr'])\n"
     ]
    },
    {
     "ename": "KeyError",
     "evalue": "'CategoricalCrossentropy'",
     "output_type": "error",
     "traceback": [
      "\u001b[1;31m---------------------------------------------------------------------------\u001b[0m",
      "\u001b[1;31mKeyError\u001b[0m                                  Traceback (most recent call last)",
      "\u001b[1;32m<ipython-input-49-fea12b4d661e>\u001b[0m in \u001b[0;36m<module>\u001b[1;34m\u001b[0m\n\u001b[0;32m     20\u001b[0m \u001b[1;33m\u001b[0m\u001b[0m\n\u001b[0;32m     21\u001b[0m \u001b[0mprint\u001b[0m\u001b[1;33m(\u001b[0m\u001b[0mhistory\u001b[0m\u001b[1;33m.\u001b[0m\u001b[0mhistory\u001b[0m\u001b[1;33m.\u001b[0m\u001b[0mkeys\u001b[0m\u001b[1;33m(\u001b[0m\u001b[1;33m)\u001b[0m\u001b[1;33m)\u001b[0m\u001b[1;33m\u001b[0m\u001b[1;33m\u001b[0m\u001b[0m\n\u001b[1;32m---> 22\u001b[1;33m \u001b[0mplt\u001b[0m\u001b[1;33m.\u001b[0m\u001b[0mplot\u001b[0m\u001b[1;33m(\u001b[0m\u001b[0mhistory\u001b[0m\u001b[1;33m.\u001b[0m\u001b[0mhistory\u001b[0m\u001b[1;33m[\u001b[0m\u001b[1;34m'CategoricalCrossentropy'\u001b[0m\u001b[1;33m]\u001b[0m\u001b[1;33m)\u001b[0m\u001b[1;33m\u001b[0m\u001b[1;33m\u001b[0m\u001b[0m\n\u001b[0m\u001b[0;32m     23\u001b[0m \u001b[0mplt\u001b[0m\u001b[1;33m.\u001b[0m\u001b[0mplot\u001b[0m\u001b[1;33m(\u001b[0m\u001b[0mhistory\u001b[0m\u001b[1;33m.\u001b[0m\u001b[0mhistory\u001b[0m\u001b[1;33m[\u001b[0m\u001b[1;34m'val_loss'\u001b[0m\u001b[1;33m]\u001b[0m\u001b[1;33m)\u001b[0m\u001b[1;33m\u001b[0m\u001b[1;33m\u001b[0m\u001b[0m\n\u001b[0;32m     24\u001b[0m \u001b[0mplt\u001b[0m\u001b[1;33m.\u001b[0m\u001b[0mtitle\u001b[0m\u001b[1;33m(\u001b[0m\u001b[1;34m'CatCrEntr'\u001b[0m\u001b[1;33m)\u001b[0m\u001b[1;33m\u001b[0m\u001b[1;33m\u001b[0m\u001b[0m\n",
      "\u001b[1;31mKeyError\u001b[0m: 'CategoricalCrossentropy'"
     ]
    }
   ],
   "source": [
    "es = tf.keras.callbacks.EarlyStopping(monitor='val_loss', \n",
    "                                      mode = 'auto', \n",
    "                                      patience=5,\n",
    "                                      restore_best_weights=True, \n",
    "                                     )\n",
    "reduce_lr = tf.keras.callbacks.ReduceLROnPlateau(monitor='val_loss', \n",
    "                              patience=3, min_lr=0.00001)\n",
    "\n",
    "log_dir = r\"C:\\Users\\offic\\Documents\\GitStuff\\NOTEMNIST\\logs\\fit\" + datetime.datetime.now().strftime(\"%Y%m%d-%H%M%S\")\n",
    "tensorboard_callback = tf.keras.callbacks.TensorBoard(log_dir=log_dir, histogram_freq=1)\n",
    "\n",
    "\n",
    "history = model.fit(train_gen,\n",
    "                    steps_per_epoch = train_steps,\n",
    "                    epochs=1000, \n",
    "                    callbacks=[es, reduce_lr, tensorboard_callback],\n",
    "                    validation_data = test_gen,\n",
    "                    validation_steps = test_steps\n",
    "                   )\n",
    "\n",
    "print(history.history.keys())\n",
    "plt.plot(history.history['loss'])\n",
    "plt.plot(history.history['val_loss'])\n",
    "plt.title('CatCrEntr')\n",
    "plt.ylabel('CrEntr')\n",
    "plt.xlabel('epoch')\n",
    "plt.legend(['train', 'test'], loc='upper left')\n",
    "plt.show()"
   ]
  },
  {
   "cell_type": "code",
   "execution_count": 51,
   "metadata": {},
   "outputs": [
    {
     "name": "stdout",
     "output_type": "stream",
     "text": [
      "WARNING:tensorflow:From c:\\users\\offic\\venv\\lib\\site-packages\\tensorflow\\python\\ops\\resource_variable_ops.py:1813: calling BaseResourceVariable.__init__ (from tensorflow.python.ops.resource_variable_ops) with constraint is deprecated and will be removed in a future version.\n",
      "Instructions for updating:\n",
      "If using Keras pass *_constraint arguments to layers.\n",
      "INFO:tensorflow:Assets written to: C:\\Users\\offic\\Documents\\GitStuff\\NOTEMNIST\\mymodel\\assets\n"
     ]
    }
   ],
   "source": [
    "model.save(r'C:\\Users\\offic\\Documents\\GitStuff\\NOTEMNIST\\mymodel')"
   ]
  },
  {
   "cell_type": "code",
   "execution_count": 5,
   "metadata": {},
   "outputs": [],
   "source": [
    "keras.backend.clear_session()\n",
    "model = Sequential()\n",
    "tf.keras.layers.UpSampling2D(size=(2, 2), data_format=None, interpolation=\"bilinear\")\n",
    "tf.keras.layers.UpSampling2D(size=(2, 2), data_format=None, interpolation=\"bilinear\")\n",
    "tf.keras.layers.UpSampling2D(size=(2, 2), data_format=None, interpolation=\"bilinear\")\n",
    "tf.keras.layers.UpSampling2D(size=(2, 2), data_format=None, interpolation=\"bilinear\")\n",
    "model.add(Conv2D(64,kernel_size = (3,3), input_shape = (28,28,3), padding = 'same',activation='relu'))\n",
    "model.add(MaxPooling2D(pool_size=2))\n",
    "model.add(Conv2D(64,kernel_size = (3,3), padding = 'same',activation='relu'))\n",
    "model.add(MaxPooling2D(pool_size=2))\n",
    "model.add(Conv2D(64,kernel_size = (3,3), padding = 'same',activation='relu'))\n",
    "model.add(MaxPooling2D(pool_size=2))\n",
    "model.add(Flatten())\n",
    "model.add(Dense(10, activation='softmax'))\n",
    "model.compile(optimizer = 'adam',loss = 'CategoricalCrossentropy',  metrics = ['accuracy'])"
   ]
  },
  {
   "cell_type": "code",
   "execution_count": 6,
   "metadata": {},
   "outputs": [
    {
     "name": "stdout",
     "output_type": "stream",
     "text": [
      "Model: \"sequential\"\n",
      "_________________________________________________________________\n",
      "Layer (type)                 Output Shape              Param #   \n",
      "=================================================================\n",
      "conv2d (Conv2D)              (None, 28, 28, 64)        1792      \n",
      "_________________________________________________________________\n",
      "max_pooling2d (MaxPooling2D) (None, 14, 14, 64)        0         \n",
      "_________________________________________________________________\n",
      "conv2d_1 (Conv2D)            (None, 14, 14, 64)        36928     \n",
      "_________________________________________________________________\n",
      "max_pooling2d_1 (MaxPooling2 (None, 7, 7, 64)          0         \n",
      "_________________________________________________________________\n",
      "conv2d_2 (Conv2D)            (None, 7, 7, 64)          36928     \n",
      "_________________________________________________________________\n",
      "max_pooling2d_2 (MaxPooling2 (None, 3, 3, 64)          0         \n",
      "_________________________________________________________________\n",
      "flatten (Flatten)            (None, 576)               0         \n",
      "_________________________________________________________________\n",
      "dense (Dense)                (None, 10)                5770      \n",
      "=================================================================\n",
      "Total params: 81,418\n",
      "Trainable params: 81,418\n",
      "Non-trainable params: 0\n",
      "_________________________________________________________________\n"
     ]
    }
   ],
   "source": [
    "model.summary()"
   ]
  },
  {
   "cell_type": "code",
   "execution_count": 18,
   "metadata": {},
   "outputs": [
    {
     "name": "stdout",
     "output_type": "stream",
     "text": [
      "Epoch 1/1000\n",
      "26455/26455 [==============================] - 574s 22ms/step - loss: 0.4503 - accuracy: 0.8752 - val_loss: 0.3452 - val_accuracy: 0.9017 - lr: 0.0010\n",
      "Epoch 2/1000\n",
      "26455/26455 [==============================] - 153s 6ms/step - loss: 0.3759 - accuracy: 0.8900 - val_loss: 0.3514 - val_accuracy: 0.8998 - lr: 0.0010\n",
      "Epoch 3/1000\n",
      "26455/26455 [==============================] - 153s 6ms/step - loss: 0.3739 - accuracy: 0.8900 - val_loss: 0.3364 - val_accuracy: 0.9042 - lr: 0.0010\n",
      "Epoch 4/1000\n",
      "26455/26455 [==============================] - 155s 6ms/step - loss: 0.3729 - accuracy: 0.8901 - val_loss: 0.3333 - val_accuracy: 0.9051 - lr: 0.0010\n",
      "Epoch 5/1000\n",
      "26455/26455 [==============================] - 153s 6ms/step - loss: 0.3650 - accuracy: 0.8924 - val_loss: 0.3337 - val_accuracy: 0.9044 - lr: 0.0010\n",
      "Epoch 6/1000\n",
      "26455/26455 [==============================] - 154s 6ms/step - loss: 0.3641 - accuracy: 0.8930 - val_loss: 0.3726 - val_accuracy: 0.8934 - lr: 0.0010\n",
      "Epoch 7/1000\n",
      "26455/26455 [==============================] - 153s 6ms/step - loss: 0.3637 - accuracy: 0.8930 - val_loss: 0.3400 - val_accuracy: 0.9068 - lr: 0.0010\n",
      "Epoch 8/1000\n",
      "26455/26455 [==============================] - 151s 6ms/step - loss: 0.3061 - accuracy: 0.9087 - val_loss: 0.2920 - val_accuracy: 0.9164 - lr: 1.0000e-04\n",
      "Epoch 9/1000\n",
      "26455/26455 [==============================] - 153s 6ms/step - loss: 0.2902 - accuracy: 0.9134 - val_loss: 0.2872 - val_accuracy: 0.9175 - lr: 1.0000e-04\n",
      "Epoch 10/1000\n",
      "26455/26455 [==============================] - 156s 6ms/step - loss: 0.2836 - accuracy: 0.9155 - val_loss: 0.2866 - val_accuracy: 0.9178 - lr: 1.0000e-04\n",
      "Epoch 11/1000\n",
      "26455/26455 [==============================] - 155s 6ms/step - loss: 0.2787 - accuracy: 0.9168 - val_loss: 0.2867 - val_accuracy: 0.9181 - lr: 1.0000e-04\n",
      "Epoch 12/1000\n",
      "26455/26455 [==============================] - 155s 6ms/step - loss: 0.2740 - accuracy: 0.9183 - val_loss: 0.2875 - val_accuracy: 0.9177 - lr: 1.0000e-04\n",
      "Epoch 13/1000\n",
      " 1274/26455 [>.............................] - ETA: 2:01 - loss: 0.2642 - accuracy: 0.9216"
     ]
    },
    {
     "ename": "KeyboardInterrupt",
     "evalue": "",
     "output_type": "error",
     "traceback": [
      "\u001b[1;31m---------------------------------------------------------------------------\u001b[0m",
      "\u001b[1;31mKeyboardInterrupt\u001b[0m                         Traceback (most recent call last)",
      "\u001b[1;32m<ipython-input-18-9dfe8ece9e87>\u001b[0m in \u001b[0;36m<module>\u001b[1;34m\u001b[0m\n\u001b[0;32m     11\u001b[0m \u001b[1;33m\u001b[0m\u001b[0m\n\u001b[0;32m     12\u001b[0m \u001b[1;33m\u001b[0m\u001b[0m\n\u001b[1;32m---> 13\u001b[1;33m history = model.fit(train_gen,\n\u001b[0m\u001b[0;32m     14\u001b[0m                     \u001b[0msteps_per_epoch\u001b[0m \u001b[1;33m=\u001b[0m \u001b[0mtrain_steps\u001b[0m\u001b[1;33m,\u001b[0m\u001b[1;33m\u001b[0m\u001b[1;33m\u001b[0m\u001b[0m\n\u001b[0;32m     15\u001b[0m                     \u001b[0mepochs\u001b[0m\u001b[1;33m=\u001b[0m\u001b[1;36m1000\u001b[0m\u001b[1;33m,\u001b[0m\u001b[1;33m\u001b[0m\u001b[1;33m\u001b[0m\u001b[0m\n",
      "\u001b[1;32mc:\\users\\offic\\venv\\lib\\site-packages\\tensorflow\\python\\keras\\engine\\training.py\u001b[0m in \u001b[0;36m_method_wrapper\u001b[1;34m(self, *args, **kwargs)\u001b[0m\n\u001b[0;32m     64\u001b[0m   \u001b[1;32mdef\u001b[0m \u001b[0m_method_wrapper\u001b[0m\u001b[1;33m(\u001b[0m\u001b[0mself\u001b[0m\u001b[1;33m,\u001b[0m \u001b[1;33m*\u001b[0m\u001b[0margs\u001b[0m\u001b[1;33m,\u001b[0m \u001b[1;33m**\u001b[0m\u001b[0mkwargs\u001b[0m\u001b[1;33m)\u001b[0m\u001b[1;33m:\u001b[0m\u001b[1;33m\u001b[0m\u001b[1;33m\u001b[0m\u001b[0m\n\u001b[0;32m     65\u001b[0m     \u001b[1;32mif\u001b[0m \u001b[1;32mnot\u001b[0m \u001b[0mself\u001b[0m\u001b[1;33m.\u001b[0m\u001b[0m_in_multi_worker_mode\u001b[0m\u001b[1;33m(\u001b[0m\u001b[1;33m)\u001b[0m\u001b[1;33m:\u001b[0m  \u001b[1;31m# pylint: disable=protected-access\u001b[0m\u001b[1;33m\u001b[0m\u001b[1;33m\u001b[0m\u001b[0m\n\u001b[1;32m---> 66\u001b[1;33m       \u001b[1;32mreturn\u001b[0m \u001b[0mmethod\u001b[0m\u001b[1;33m(\u001b[0m\u001b[0mself\u001b[0m\u001b[1;33m,\u001b[0m \u001b[1;33m*\u001b[0m\u001b[0margs\u001b[0m\u001b[1;33m,\u001b[0m \u001b[1;33m**\u001b[0m\u001b[0mkwargs\u001b[0m\u001b[1;33m)\u001b[0m\u001b[1;33m\u001b[0m\u001b[1;33m\u001b[0m\u001b[0m\n\u001b[0m\u001b[0;32m     67\u001b[0m \u001b[1;33m\u001b[0m\u001b[0m\n\u001b[0;32m     68\u001b[0m     \u001b[1;31m# Running inside `run_distribute_coordinator` already.\u001b[0m\u001b[1;33m\u001b[0m\u001b[1;33m\u001b[0m\u001b[1;33m\u001b[0m\u001b[0m\n",
      "\u001b[1;32mc:\\users\\offic\\venv\\lib\\site-packages\\tensorflow\\python\\keras\\engine\\training.py\u001b[0m in \u001b[0;36mfit\u001b[1;34m(self, x, y, batch_size, epochs, verbose, callbacks, validation_split, validation_data, shuffle, class_weight, sample_weight, initial_epoch, steps_per_epoch, validation_steps, validation_batch_size, validation_freq, max_queue_size, workers, use_multiprocessing)\u001b[0m\n\u001b[0;32m    846\u001b[0m                 batch_size=batch_size):\n\u001b[0;32m    847\u001b[0m               \u001b[0mcallbacks\u001b[0m\u001b[1;33m.\u001b[0m\u001b[0mon_train_batch_begin\u001b[0m\u001b[1;33m(\u001b[0m\u001b[0mstep\u001b[0m\u001b[1;33m)\u001b[0m\u001b[1;33m\u001b[0m\u001b[1;33m\u001b[0m\u001b[0m\n\u001b[1;32m--> 848\u001b[1;33m               \u001b[0mtmp_logs\u001b[0m \u001b[1;33m=\u001b[0m \u001b[0mtrain_function\u001b[0m\u001b[1;33m(\u001b[0m\u001b[0miterator\u001b[0m\u001b[1;33m)\u001b[0m\u001b[1;33m\u001b[0m\u001b[1;33m\u001b[0m\u001b[0m\n\u001b[0m\u001b[0;32m    849\u001b[0m               \u001b[1;31m# Catch OutOfRangeError for Datasets of unknown size.\u001b[0m\u001b[1;33m\u001b[0m\u001b[1;33m\u001b[0m\u001b[1;33m\u001b[0m\u001b[0m\n\u001b[0;32m    850\u001b[0m               \u001b[1;31m# This blocks until the batch has finished executing.\u001b[0m\u001b[1;33m\u001b[0m\u001b[1;33m\u001b[0m\u001b[1;33m\u001b[0m\u001b[0m\n",
      "\u001b[1;32mc:\\users\\offic\\venv\\lib\\site-packages\\tensorflow\\python\\eager\\def_function.py\u001b[0m in \u001b[0;36m__call__\u001b[1;34m(self, *args, **kwds)\u001b[0m\n\u001b[0;32m    578\u001b[0m         \u001b[0mxla_context\u001b[0m\u001b[1;33m.\u001b[0m\u001b[0mExit\u001b[0m\u001b[1;33m(\u001b[0m\u001b[1;33m)\u001b[0m\u001b[1;33m\u001b[0m\u001b[1;33m\u001b[0m\u001b[0m\n\u001b[0;32m    579\u001b[0m     \u001b[1;32melse\u001b[0m\u001b[1;33m:\u001b[0m\u001b[1;33m\u001b[0m\u001b[1;33m\u001b[0m\u001b[0m\n\u001b[1;32m--> 580\u001b[1;33m       \u001b[0mresult\u001b[0m \u001b[1;33m=\u001b[0m \u001b[0mself\u001b[0m\u001b[1;33m.\u001b[0m\u001b[0m_call\u001b[0m\u001b[1;33m(\u001b[0m\u001b[1;33m*\u001b[0m\u001b[0margs\u001b[0m\u001b[1;33m,\u001b[0m \u001b[1;33m**\u001b[0m\u001b[0mkwds\u001b[0m\u001b[1;33m)\u001b[0m\u001b[1;33m\u001b[0m\u001b[1;33m\u001b[0m\u001b[0m\n\u001b[0m\u001b[0;32m    581\u001b[0m \u001b[1;33m\u001b[0m\u001b[0m\n\u001b[0;32m    582\u001b[0m     \u001b[1;32mif\u001b[0m \u001b[0mtracing_count\u001b[0m \u001b[1;33m==\u001b[0m \u001b[0mself\u001b[0m\u001b[1;33m.\u001b[0m\u001b[0m_get_tracing_count\u001b[0m\u001b[1;33m(\u001b[0m\u001b[1;33m)\u001b[0m\u001b[1;33m:\u001b[0m\u001b[1;33m\u001b[0m\u001b[1;33m\u001b[0m\u001b[0m\n",
      "\u001b[1;32mc:\\users\\offic\\venv\\lib\\site-packages\\tensorflow\\python\\eager\\def_function.py\u001b[0m in \u001b[0;36m_call\u001b[1;34m(self, *args, **kwds)\u001b[0m\n\u001b[0;32m    609\u001b[0m       \u001b[1;31m# In this case we have created variables on the first call, so we run the\u001b[0m\u001b[1;33m\u001b[0m\u001b[1;33m\u001b[0m\u001b[1;33m\u001b[0m\u001b[0m\n\u001b[0;32m    610\u001b[0m       \u001b[1;31m# defunned version which is guaranteed to never create variables.\u001b[0m\u001b[1;33m\u001b[0m\u001b[1;33m\u001b[0m\u001b[1;33m\u001b[0m\u001b[0m\n\u001b[1;32m--> 611\u001b[1;33m       \u001b[1;32mreturn\u001b[0m \u001b[0mself\u001b[0m\u001b[1;33m.\u001b[0m\u001b[0m_stateless_fn\u001b[0m\u001b[1;33m(\u001b[0m\u001b[1;33m*\u001b[0m\u001b[0margs\u001b[0m\u001b[1;33m,\u001b[0m \u001b[1;33m**\u001b[0m\u001b[0mkwds\u001b[0m\u001b[1;33m)\u001b[0m  \u001b[1;31m# pylint: disable=not-callable\u001b[0m\u001b[1;33m\u001b[0m\u001b[1;33m\u001b[0m\u001b[0m\n\u001b[0m\u001b[0;32m    612\u001b[0m     \u001b[1;32melif\u001b[0m \u001b[0mself\u001b[0m\u001b[1;33m.\u001b[0m\u001b[0m_stateful_fn\u001b[0m \u001b[1;32mis\u001b[0m \u001b[1;32mnot\u001b[0m \u001b[1;32mNone\u001b[0m\u001b[1;33m:\u001b[0m\u001b[1;33m\u001b[0m\u001b[1;33m\u001b[0m\u001b[0m\n\u001b[0;32m    613\u001b[0m       \u001b[1;31m# Release the lock early so that multiple threads can perform the call\u001b[0m\u001b[1;33m\u001b[0m\u001b[1;33m\u001b[0m\u001b[1;33m\u001b[0m\u001b[0m\n",
      "\u001b[1;32mc:\\users\\offic\\venv\\lib\\site-packages\\tensorflow\\python\\eager\\function.py\u001b[0m in \u001b[0;36m__call__\u001b[1;34m(self, *args, **kwargs)\u001b[0m\n\u001b[0;32m   2418\u001b[0m     \u001b[1;32mwith\u001b[0m \u001b[0mself\u001b[0m\u001b[1;33m.\u001b[0m\u001b[0m_lock\u001b[0m\u001b[1;33m:\u001b[0m\u001b[1;33m\u001b[0m\u001b[1;33m\u001b[0m\u001b[0m\n\u001b[0;32m   2419\u001b[0m       \u001b[0mgraph_function\u001b[0m\u001b[1;33m,\u001b[0m \u001b[0margs\u001b[0m\u001b[1;33m,\u001b[0m \u001b[0mkwargs\u001b[0m \u001b[1;33m=\u001b[0m \u001b[0mself\u001b[0m\u001b[1;33m.\u001b[0m\u001b[0m_maybe_define_function\u001b[0m\u001b[1;33m(\u001b[0m\u001b[0margs\u001b[0m\u001b[1;33m,\u001b[0m \u001b[0mkwargs\u001b[0m\u001b[1;33m)\u001b[0m\u001b[1;33m\u001b[0m\u001b[1;33m\u001b[0m\u001b[0m\n\u001b[1;32m-> 2420\u001b[1;33m     \u001b[1;32mreturn\u001b[0m \u001b[0mgraph_function\u001b[0m\u001b[1;33m.\u001b[0m\u001b[0m_filtered_call\u001b[0m\u001b[1;33m(\u001b[0m\u001b[0margs\u001b[0m\u001b[1;33m,\u001b[0m \u001b[0mkwargs\u001b[0m\u001b[1;33m)\u001b[0m  \u001b[1;31m# pylint: disable=protected-access\u001b[0m\u001b[1;33m\u001b[0m\u001b[1;33m\u001b[0m\u001b[0m\n\u001b[0m\u001b[0;32m   2421\u001b[0m \u001b[1;33m\u001b[0m\u001b[0m\n\u001b[0;32m   2422\u001b[0m   \u001b[1;33m@\u001b[0m\u001b[0mproperty\u001b[0m\u001b[1;33m\u001b[0m\u001b[1;33m\u001b[0m\u001b[0m\n",
      "\u001b[1;32mc:\\users\\offic\\venv\\lib\\site-packages\\tensorflow\\python\\eager\\function.py\u001b[0m in \u001b[0;36m_filtered_call\u001b[1;34m(self, args, kwargs)\u001b[0m\n\u001b[0;32m   1659\u001b[0m       \u001b[0;31m`\u001b[0m\u001b[0margs\u001b[0m\u001b[0;31m`\u001b[0m \u001b[1;32mand\u001b[0m\u001b[0;31m \u001b[0m\u001b[0;31m`\u001b[0m\u001b[0mkwargs\u001b[0m\u001b[0;31m`\u001b[0m\u001b[1;33m.\u001b[0m\u001b[1;33m\u001b[0m\u001b[1;33m\u001b[0m\u001b[0m\n\u001b[0;32m   1660\u001b[0m     \"\"\"\n\u001b[1;32m-> 1661\u001b[1;33m     return self._call_flat(\n\u001b[0m\u001b[0;32m   1662\u001b[0m         (t for t in nest.flatten((args, kwargs), expand_composites=True)\n\u001b[0;32m   1663\u001b[0m          if isinstance(t, (ops.Tensor,\n",
      "\u001b[1;32mc:\\users\\offic\\venv\\lib\\site-packages\\tensorflow\\python\\eager\\function.py\u001b[0m in \u001b[0;36m_call_flat\u001b[1;34m(self, args, captured_inputs, cancellation_manager)\u001b[0m\n\u001b[0;32m   1743\u001b[0m         and executing_eagerly):\n\u001b[0;32m   1744\u001b[0m       \u001b[1;31m# No tape is watching; skip to running the function.\u001b[0m\u001b[1;33m\u001b[0m\u001b[1;33m\u001b[0m\u001b[1;33m\u001b[0m\u001b[0m\n\u001b[1;32m-> 1745\u001b[1;33m       return self._build_call_outputs(self._inference_function.call(\n\u001b[0m\u001b[0;32m   1746\u001b[0m           ctx, args, cancellation_manager=cancellation_manager))\n\u001b[0;32m   1747\u001b[0m     forward_backward = self._select_forward_and_backward_functions(\n",
      "\u001b[1;32mc:\\users\\offic\\venv\\lib\\site-packages\\tensorflow\\python\\eager\\function.py\u001b[0m in \u001b[0;36mcall\u001b[1;34m(self, ctx, args, cancellation_manager)\u001b[0m\n\u001b[0;32m    591\u001b[0m       \u001b[1;32mwith\u001b[0m \u001b[0m_InterpolateFunctionError\u001b[0m\u001b[1;33m(\u001b[0m\u001b[0mself\u001b[0m\u001b[1;33m)\u001b[0m\u001b[1;33m:\u001b[0m\u001b[1;33m\u001b[0m\u001b[1;33m\u001b[0m\u001b[0m\n\u001b[0;32m    592\u001b[0m         \u001b[1;32mif\u001b[0m \u001b[0mcancellation_manager\u001b[0m \u001b[1;32mis\u001b[0m \u001b[1;32mNone\u001b[0m\u001b[1;33m:\u001b[0m\u001b[1;33m\u001b[0m\u001b[1;33m\u001b[0m\u001b[0m\n\u001b[1;32m--> 593\u001b[1;33m           outputs = execute.execute(\n\u001b[0m\u001b[0;32m    594\u001b[0m               \u001b[0mstr\u001b[0m\u001b[1;33m(\u001b[0m\u001b[0mself\u001b[0m\u001b[1;33m.\u001b[0m\u001b[0msignature\u001b[0m\u001b[1;33m.\u001b[0m\u001b[0mname\u001b[0m\u001b[1;33m)\u001b[0m\u001b[1;33m,\u001b[0m\u001b[1;33m\u001b[0m\u001b[1;33m\u001b[0m\u001b[0m\n\u001b[0;32m    595\u001b[0m               \u001b[0mnum_outputs\u001b[0m\u001b[1;33m=\u001b[0m\u001b[0mself\u001b[0m\u001b[1;33m.\u001b[0m\u001b[0m_num_outputs\u001b[0m\u001b[1;33m,\u001b[0m\u001b[1;33m\u001b[0m\u001b[1;33m\u001b[0m\u001b[0m\n",
      "\u001b[1;32mc:\\users\\offic\\venv\\lib\\site-packages\\tensorflow\\python\\eager\\execute.py\u001b[0m in \u001b[0;36mquick_execute\u001b[1;34m(op_name, num_outputs, inputs, attrs, ctx, name)\u001b[0m\n\u001b[0;32m     57\u001b[0m   \u001b[1;32mtry\u001b[0m\u001b[1;33m:\u001b[0m\u001b[1;33m\u001b[0m\u001b[1;33m\u001b[0m\u001b[0m\n\u001b[0;32m     58\u001b[0m     \u001b[0mctx\u001b[0m\u001b[1;33m.\u001b[0m\u001b[0mensure_initialized\u001b[0m\u001b[1;33m(\u001b[0m\u001b[1;33m)\u001b[0m\u001b[1;33m\u001b[0m\u001b[1;33m\u001b[0m\u001b[0m\n\u001b[1;32m---> 59\u001b[1;33m     tensors = pywrap_tfe.TFE_Py_Execute(ctx._handle, device_name, op_name,\n\u001b[0m\u001b[0;32m     60\u001b[0m                                         inputs, attrs, num_outputs)\n\u001b[0;32m     61\u001b[0m   \u001b[1;32mexcept\u001b[0m \u001b[0mcore\u001b[0m\u001b[1;33m.\u001b[0m\u001b[0m_NotOkStatusException\u001b[0m \u001b[1;32mas\u001b[0m \u001b[0me\u001b[0m\u001b[1;33m:\u001b[0m\u001b[1;33m\u001b[0m\u001b[1;33m\u001b[0m\u001b[0m\n",
      "\u001b[1;31mKeyboardInterrupt\u001b[0m: "
     ]
    }
   ],
   "source": [
    "es = tf.keras.callbacks.EarlyStopping(monitor='val_loss', \n",
    "                                      mode = 'auto', \n",
    "                                      patience=5,\n",
    "                                      restore_best_weights=True, \n",
    "                                     )\n",
    "reduce_lr = tf.keras.callbacks.ReduceLROnPlateau(monitor='val_loss', \n",
    "                              patience=3, min_lr=0.00001)\n",
    "\n",
    "log_dir = r\"C:\\Users\\offic\\Documents\\GitStuff\\NOTEMNIST\\logs\\fit\" + datetime.datetime.now().strftime(\"%Y%m%d-%H%M%S\")\n",
    "tensorboard_callback = tf.keras.callbacks.TensorBoard(log_dir=log_dir, histogram_freq=1)\n",
    "\n",
    "\n",
    "history = model.fit(train_gen,\n",
    "                    steps_per_epoch = train_steps,\n",
    "                    epochs=1000, \n",
    "                    callbacks=[es, reduce_lr, tensorboard_callback],\n",
    "                    validation_data = test_gen,\n",
    "                    validation_steps = test_steps\n",
    "                   )\n",
    "\n",
    "print(history.history.keys())\n",
    "plt.plot(history.history['loss'])\n",
    "plt.plot(history.history['val_loss'])\n",
    "plt.title('CatCrEntr')\n",
    "plt.ylabel('CrEntr')\n",
    "plt.xlabel('epoch')\n",
    "plt.legend(['train', 'test'], loc='upper left')\n",
    "plt.show()"
   ]
  },
  {
   "cell_type": "code",
   "execution_count": 28,
   "metadata": {},
   "outputs": [],
   "source": [
    "keras.backend.clear_session()\n",
    "model = Sequential()\n",
    "model.add(Conv2D(256,kernel_size = (8,8), input_shape = (28,28,3), padding = 'same',activation='relu'))\n",
    "model.add(MaxPooling2D(pool_size=2))\n",
    "model.add(Conv2D(128,kernel_size = (8,8), padding = 'same',activation='relu'))\n",
    "model.add(MaxPooling2D(pool_size=2))\n",
    "model.add(Conv2D(64,kernel_size = (8,8), padding = 'same',activation='relu'))\n",
    "model.add(MaxPooling2D(pool_size=2))\n",
    "model.add(Conv2D(32,kernel_size = (8,8), padding = 'same',activation='relu'))\n",
    "model.add(MaxPooling2D(pool_size=2))\n",
    "model.add(Flatten())\n",
    "model.add(Dense(10, activation='softmax'))\n",
    "model.compile(optimizer = 'adam',loss = 'CategoricalCrossentropy',  metrics = ['accuracy'])"
   ]
  },
  {
   "cell_type": "code",
   "execution_count": 29,
   "metadata": {
    "scrolled": true
   },
   "outputs": [
    {
     "name": "stdout",
     "output_type": "stream",
     "text": [
      "Epoch 1/1000\n",
      "    2/26455 [..............................] - ETA: 2:32:35 - loss: 2.1998 - accuracy: 0.0625WARNING:tensorflow:Method (on_train_batch_end) is slow compared to the batch update (0.346586). Check your callbacks.\n",
      "26455/26455 [==============================] - 541s 20ms/step - loss: 0.3298 - accuracy: 0.8999 - val_loss: 0.2673 - val_accuracy: 0.9201 - lr: 0.0010\n",
      "Epoch 2/1000\n",
      "26455/26455 [==============================] - 637s 24ms/step - loss: 0.2641 - accuracy: 0.9187 - val_loss: 0.2487 - val_accuracy: 0.9249 - lr: 0.0010\n",
      "Epoch 3/1000\n",
      "26455/26455 [==============================] - 510s 19ms/step - loss: 0.2456 - accuracy: 0.9242 - val_loss: 0.2607 - val_accuracy: 0.9272 - lr: 0.0010\n",
      "Epoch 4/1000\n",
      "26455/26455 [==============================] - 510s 19ms/step - loss: 0.2350 - accuracy: 0.9276 - val_loss: 0.2582 - val_accuracy: 0.9281 - lr: 0.0010\n",
      "Epoch 5/1000\n",
      "26455/26455 [==============================] - 510s 19ms/step - loss: 0.2291 - accuracy: 0.9292 - val_loss: 0.3055 - val_accuracy: 0.9100 - lr: 0.0010\n",
      "Epoch 6/1000\n",
      "26455/26455 [==============================] - 503s 19ms/step - loss: 0.1791 - accuracy: 0.9411 - val_loss: 0.2387 - val_accuracy: 0.9347 - lr: 1.0000e-04\n",
      "Epoch 7/1000\n",
      "26455/26455 [==============================] - 503s 19ms/step - loss: 0.1583 - accuracy: 0.9460 - val_loss: 0.2513 - val_accuracy: 0.9355 - lr: 1.0000e-04\n",
      "Epoch 8/1000\n",
      "26455/26455 [==============================] - 516s 20ms/step - loss: 0.1470 - accuracy: 0.9489 - val_loss: 0.2791 - val_accuracy: 0.9347 - lr: 1.0000e-04\n",
      "Epoch 9/1000\n",
      "26455/26455 [==============================] - 613s 23ms/step - loss: 0.1383 - accuracy: 0.9513 - val_loss: 0.3302 - val_accuracy: 0.9343 - lr: 1.0000e-04\n",
      "Epoch 10/1000\n",
      "26455/26455 [==============================] - 535s 20ms/step - loss: 0.1267 - accuracy: 0.9540 - val_loss: 0.3520 - val_accuracy: 0.9346 - lr: 1.0000e-05\n",
      "Epoch 11/1000\n",
      "26455/26455 [==============================] - 503s 19ms/step - loss: 0.1246 - accuracy: 0.9546 - val_loss: 0.3733 - val_accuracy: 0.9348 - lr: 1.0000e-05\n",
      "dict_keys(['loss', 'accuracy', 'val_loss', 'val_accuracy', 'lr'])\n"
     ]
    },
    {
     "data": {
      "image/png": "[encoded data removed]",
      "text/plain": [
       "<Figure size 432x288 with 1 Axes>"
      ]
     },
     "metadata": {
      "needs_background": "light"
     },
     "output_type": "display_data"
    }
   ],
   "source": [
    "es = tf.keras.callbacks.EarlyStopping(monitor='val_loss', \n",
    "                                      mode = 'auto', \n",
    "                                      patience=5,\n",
    "                                      restore_best_weights=True, \n",
    "                                     )\n",
    "reduce_lr = tf.keras.callbacks.ReduceLROnPlateau(monitor='val_loss', \n",
    "                              patience=3, min_lr=0.00001)\n",
    "\n",
    "log_dir = r\"C:\\Users\\offic\\Documents\\GitStuff\\NOTEMNIST\\logs\\fit\" + datetime.datetime.now().strftime(\"%Y%m%d-%H%M%S\")\n",
    "tensorboard_callback = tf.keras.callbacks.TensorBoard(log_dir=log_dir, histogram_freq=1)\n",
    "\n",
    "\n",
    "history = model.fit(train_gen,\n",
    "                    steps_per_epoch = train_steps,\n",
    "                    epochs=1000, \n",
    "                    callbacks=[es, reduce_lr, tensorboard_callback],\n",
    "                    validation_data = test_gen,\n",
    "                    validation_steps = test_steps\n",
    "                   )\n",
    "\n",
    "print(history.history.keys())\n",
    "plt.plot(history.history['loss'])\n",
    "plt.plot(history.history['val_loss'])\n",
    "plt.title('CatCrEntr')\n",
    "plt.ylabel('CrEntr')\n",
    "plt.xlabel('epoch')\n",
    "plt.legend(['train', 'test'], loc='upper left')\n",
    "plt.show()"
   ]
  },
  {
   "cell_type": "markdown",
   "metadata": {},
   "source": [
    "# making smaller"
   ]
  },
  {
   "cell_type": "code",
   "execution_count": 19,
   "metadata": {},
   "outputs": [],
   "source": [
    "keras.backend.clear_session()\n",
    "model = Sequential()\n",
    "model.add(Conv2D(16,kernel_size = (2,2), input_shape = (28,28,3), padding = 'same',activation='relu'))\n",
    "model.add(MaxPooling2D(pool_size=2))\n",
    "model.add(Conv2D(12,kernel_size = (4,4), padding = 'same',activation='relu'))\n",
    "model.add(MaxPooling2D(pool_size=2))\n",
    "model.add(Conv2D(8,kernel_size = (4,4), padding = 'same',activation='relu'))\n",
    "model.add(MaxPooling2D(pool_size=2))\n",
    "model.add(Conv2D(4,kernel_size = (2,2), padding = 'same',activation='relu'))\n",
    "model.add(MaxPooling2D(pool_size=2))\n",
    "model.add(Flatten())\n",
    "model.add(Dense(10, activation='softmax'))\n",
    "model.compile(optimizer = 'adam',loss = 'CategoricalCrossentropy',  metrics = ['accuracy'])"
   ]
  },
  {
   "cell_type": "code",
   "execution_count": null,
   "metadata": {},
   "outputs": [
    {
     "name": "stdout",
     "output_type": "stream",
     "text": [
      "Epoch 1/1000\n",
      "    2/23149 [..............................] - ETA: 2:13:52 - loss: 2.3087 - accuracy: 0.1250WARNING:tensorflow:Method (on_train_batch_end) is slow compared to the batch update (0.347516). Check your callbacks.\n",
      "23149/23149 [==============================] - 824s 36ms/step - loss: 1.0557 - accuracy: 0.6902 - val_loss: 0.8172 - val_accuracy: 0.7735 - lr: 0.0010\n",
      "Epoch 2/1000\n",
      "23149/23149 [==============================] - 317s 14ms/step - loss: 0.8499 - accuracy: 0.7616 - val_loss: 0.7674 - val_accuracy: 0.7843 - lr: 0.0010\n",
      "Epoch 3/1000\n",
      "23149/23149 [==============================] - 318s 14ms/step - loss: 0.8067 - accuracy: 0.7719 - val_loss: 0.7093 - val_accuracy: 0.8009 - lr: 0.0010\n",
      "Epoch 4/1000\n",
      "23149/23149 [==============================] - 319s 14ms/step - loss: 0.7828 - accuracy: 0.7783 - val_loss: 0.6862 - val_accuracy: 0.8080 - lr: 0.0010\n",
      "Epoch 5/1000\n",
      "23149/23149 [==============================] - 318s 14ms/step - loss: 0.7651 - accuracy: 0.7834 - val_loss: 0.6798 - val_accuracy: 0.8094 - lr: 0.0010\n",
      "Epoch 6/1000\n",
      "23149/23149 [==============================] - 316s 14ms/step - loss: 0.7471 - accuracy: 0.7876 - val_loss: 0.6893 - val_accuracy: 0.8066 - lr: 0.0010\n",
      "Epoch 7/1000\n",
      "23149/23149 [==============================] - 365s 16ms/step - loss: 0.7323 - accuracy: 0.7923 - val_loss: 0.6599 - val_accuracy: 0.8139 - lr: 0.0010\n",
      "Epoch 8/1000\n",
      "23149/23149 [==============================] - 397s 17ms/step - loss: 0.7236 - accuracy: 0.7950 - val_loss: 0.6688 - val_accuracy: 0.8096 - lr: 0.0010\n",
      "Epoch 9/1000\n",
      "23149/23149 [==============================] - 316s 14ms/step - loss: 0.7156 - accuracy: 0.7969 - val_loss: 0.6415 - val_accuracy: 0.8189 - lr: 0.0010\n",
      "Epoch 10/1000\n",
      "23149/23149 [==============================] - 334s 14ms/step - loss: 0.7098 - accuracy: 0.7986 - val_loss: 0.6421 - val_accuracy: 0.8192 - lr: 0.0010\n",
      "Epoch 11/1000\n",
      "23149/23149 [==============================] - 411s 18ms/step - loss: 0.7030 - accuracy: 0.8006 - val_loss: 0.6209 - val_accuracy: 0.8258 - lr: 0.0010\n",
      "Epoch 12/1000\n",
      "23149/23149 [==============================] - 405s 17ms/step - loss: 0.6996 - accuracy: 0.8021 - val_loss: 0.6188 - val_accuracy: 0.8261 - lr: 0.0010\n",
      "Epoch 13/1000\n",
      "23149/23149 [==============================] - 320s 14ms/step - loss: 0.6947 - accuracy: 0.8025 - val_loss: 0.6344 - val_accuracy: 0.8185 - lr: 0.0010\n",
      "Epoch 14/1000\n",
      "23149/23149 [==============================] - 319s 14ms/step - loss: 0.6903 - accuracy: 0.8030 - val_loss: 0.6280 - val_accuracy: 0.8232 - lr: 0.0010\n",
      "Epoch 15/1000\n",
      "23149/23149 [==============================] - 320s 14ms/step - loss: 0.6606 - accuracy: 0.8117 - val_loss: 0.5976 - val_accuracy: 0.8318 - lr: 1.0000e-04\n",
      "Epoch 16/1000\n",
      "23149/23149 [==============================] - 322s 14ms/step - loss: 0.6602 - accuracy: 0.8113 - val_loss: 0.5912 - val_accuracy: 0.8321 - lr: 1.0000e-04\n",
      "Epoch 17/1000\n",
      "23149/23149 [==============================] - 317s 14ms/step - loss: 0.6549 - accuracy: 0.8132 - val_loss: 0.5904 - val_accuracy: 0.8332 - lr: 1.0000e-04\n",
      "Epoch 18/1000\n",
      "23149/23149 [==============================] - 321s 14ms/step - loss: 0.6541 - accuracy: 0.8131 - val_loss: 0.5892 - val_accuracy: 0.8346 - lr: 1.0000e-04\n",
      "Epoch 19/1000\n",
      "23149/23149 [==============================] - 316s 14ms/step - loss: 0.6533 - accuracy: 0.8133 - val_loss: 0.5892 - val_accuracy: 0.8335 - lr: 1.0000e-04\n",
      "Epoch 20/1000\n",
      "23146/23149 [============================>.] - ETA: 0s - loss: 0.6540 - accuracy: 0.8132"
     ]
    }
   ],
   "source": [
    "es = tf.keras.callbacks.EarlyStopping(monitor='val_loss', \n",
    "                                      mode = 'auto', \n",
    "                                      patience=5,\n",
    "                                      restore_best_weights=True, \n",
    "                                     )\n",
    "reduce_lr = tf.keras.callbacks.ReduceLROnPlateau(monitor='val_loss', \n",
    "                              patience=2, min_lr=0.00001)\n",
    "\n",
    "log_dir = r\"C:\\Users\\offic\\Documents\\GitStuff\\NOTEMNIST\\logs\\fit\" + datetime.datetime.now().strftime(\"%Y%m%d-%H%M%S\")\n",
    "tensorboard_callback = tf.keras.callbacks.TensorBoard(log_dir=log_dir, histogram_freq=1)\n",
    "\n",
    "\n",
    "history = model.fit(train_gen,\n",
    "                    steps_per_epoch = train_steps,\n",
    "                    epochs=1000, \n",
    "                    callbacks=[es, reduce_lr, tensorboard_callback],\n",
    "                    validation_data = test_gen,\n",
    "                    validation_steps = test_steps\n",
    "                   )\n",
    "\n",
    "print(history.history.keys())\n",
    "plt.plot(history.history['loss'])\n",
    "plt.plot(history.history['val_loss'])\n",
    "plt.title('CatCrEntr')\n",
    "plt.ylabel('CrEntr')\n",
    "plt.xlabel('epoch')\n",
    "plt.legend(['train', 'test'], loc='upper left')\n",
    "plt.show()"
   ]
  },
  {
   "cell_type": "code",
   "execution_count": 42,
   "metadata": {},
   "outputs": [],
   "source": [
    "keras.backend.clear_session()\n",
    "model = Sequential()\n",
    "model.add(Conv2D(128,kernel_size = (8,8), input_shape = (28,28,3), padding = 'same',activation='relu'))\n",
    "model.add(MaxPooling2D(pool_size=2))\n",
    "model.add(Conv2D(128,kernel_size = (8,8), padding = 'same',activation='relu'))\n",
    "model.add(MaxPooling2D(pool_size=2))\n",
    "model.add(Conv2D(256,kernel_size = (8,8), padding = 'same',activation='relu'))\n",
    "model.add(MaxPooling2D(pool_size=2))\n",
    "model.add(Conv2D(256,kernel_size = (8,8), padding = 'same',activation='relu'))\n",
    "model.add(MaxPooling2D(pool_size=2))\n",
    "model.add(tf.keras.layers.UpSampling2D(size=(2, 2), data_format=None, interpolation=\"bilinear\"))\n",
    "model.add(Conv2D(256,kernel_size = (8,8), padding = 'same',activation='relu'))\n",
    "model.add(Flatten())\n",
    "model.add(Dense(10, activation='softmax'))\n",
    "model.compile(optimizer = 'adam',loss = 'CategoricalCrossentropy',  metrics = ['accuracy'])"
   ]
  },
  {
   "cell_type": "code",
   "execution_count": 43,
   "metadata": {},
   "outputs": [
    {
     "name": "stdout",
     "output_type": "stream",
     "text": [
      "Epoch 1/1000\n",
      "    2/23149 [..............................] - ETA: 1:58:00 - loss: 2.4028 - accuracy: 0.0625WARNING:tensorflow:Method (on_train_batch_end) is slow compared to the batch update (0.297818). Check your callbacks.\n",
      "23149/23149 [==============================] - 922s 40ms/step - loss: 0.3667 - accuracy: 0.8904 - val_loss: 0.3032 - val_accuracy: 0.9152 - lr: 0.0010\n",
      "Epoch 2/1000\n",
      "23149/23149 [==============================] - 940s 41ms/step - loss: 0.2912 - accuracy: 0.9132 - val_loss: 0.2704 - val_accuracy: 0.9212 - lr: 0.0010\n",
      "Epoch 3/1000\n",
      "23149/23149 [==============================] - 856s 37ms/step - loss: 0.2743 - accuracy: 0.9188 - val_loss: 0.2892 - val_accuracy: 0.9178 - lr: 0.0010\n",
      "Epoch 4/1000\n",
      "23149/23149 [==============================] - 861s 37ms/step - loss: 0.2658 - accuracy: 0.9219 - val_loss: 0.2933 - val_accuracy: 0.9176 - lr: 0.0010\n",
      "Epoch 5/1000\n",
      "23149/23149 [==============================] - 865s 37ms/step - loss: 0.2004 - accuracy: 0.9360 - val_loss: 0.2402 - val_accuracy: 0.9325 - lr: 1.0000e-04\n",
      "Epoch 6/1000\n",
      "23149/23149 [==============================] - 921s 40ms/step - loss: 0.1789 - accuracy: 0.9413 - val_loss: 0.2678 - val_accuracy: 0.9329 - lr: 1.0000e-04\n",
      "Epoch 7/1000\n",
      "23149/23149 [==============================] - 907s 39ms/step - loss: 0.1662 - accuracy: 0.9445 - val_loss: 0.3173 - val_accuracy: 0.9329 - lr: 1.0000e-04\n",
      "Epoch 8/1000\n",
      "23149/23149 [==============================] - 865s 37ms/step - loss: 0.1517 - accuracy: 0.9480 - val_loss: 0.3187 - val_accuracy: 0.9331 - lr: 1.0000e-05\n",
      "Epoch 9/1000\n",
      "23149/23149 [==============================] - 862s 37ms/step - loss: 0.1488 - accuracy: 0.9487 - val_loss: 0.3211 - val_accuracy: 0.9329 - lr: 1.0000e-05\n",
      "Epoch 10/1000\n",
      "12073/23149 [==============>...............] - ETA: 6:18 - loss: 0.1480 - accuracy: 0.9486"
     ]
    },
    {
     "ename": "KeyboardInterrupt",
     "evalue": "",
     "output_type": "error",
     "traceback": [
      "\u001b[1;31m---------------------------------------------------------------------------\u001b[0m",
      "\u001b[1;31mKeyboardInterrupt\u001b[0m                         Traceback (most recent call last)",
      "\u001b[1;32m<ipython-input-43-661105fa6130>\u001b[0m in \u001b[0;36m<module>\u001b[1;34m\u001b[0m\n\u001b[0;32m     11\u001b[0m \u001b[1;33m\u001b[0m\u001b[0m\n\u001b[0;32m     12\u001b[0m \u001b[1;33m\u001b[0m\u001b[0m\n\u001b[1;32m---> 13\u001b[1;33m history = model.fit(train_gen,\n\u001b[0m\u001b[0;32m     14\u001b[0m                     \u001b[0msteps_per_epoch\u001b[0m \u001b[1;33m=\u001b[0m \u001b[0mtrain_steps\u001b[0m\u001b[1;33m,\u001b[0m\u001b[1;33m\u001b[0m\u001b[1;33m\u001b[0m\u001b[0m\n\u001b[0;32m     15\u001b[0m                     \u001b[0mepochs\u001b[0m\u001b[1;33m=\u001b[0m\u001b[1;36m1000\u001b[0m\u001b[1;33m,\u001b[0m\u001b[1;33m\u001b[0m\u001b[1;33m\u001b[0m\u001b[0m\n",
      "\u001b[1;32mc:\\users\\offic\\venv\\lib\\site-packages\\tensorflow\\python\\keras\\engine\\training.py\u001b[0m in \u001b[0;36m_method_wrapper\u001b[1;34m(self, *args, **kwargs)\u001b[0m\n\u001b[0;32m     64\u001b[0m   \u001b[1;32mdef\u001b[0m \u001b[0m_method_wrapper\u001b[0m\u001b[1;33m(\u001b[0m\u001b[0mself\u001b[0m\u001b[1;33m,\u001b[0m \u001b[1;33m*\u001b[0m\u001b[0margs\u001b[0m\u001b[1;33m,\u001b[0m \u001b[1;33m**\u001b[0m\u001b[0mkwargs\u001b[0m\u001b[1;33m)\u001b[0m\u001b[1;33m:\u001b[0m\u001b[1;33m\u001b[0m\u001b[1;33m\u001b[0m\u001b[0m\n\u001b[0;32m     65\u001b[0m     \u001b[1;32mif\u001b[0m \u001b[1;32mnot\u001b[0m \u001b[0mself\u001b[0m\u001b[1;33m.\u001b[0m\u001b[0m_in_multi_worker_mode\u001b[0m\u001b[1;33m(\u001b[0m\u001b[1;33m)\u001b[0m\u001b[1;33m:\u001b[0m  \u001b[1;31m# pylint: disable=protected-access\u001b[0m\u001b[1;33m\u001b[0m\u001b[1;33m\u001b[0m\u001b[0m\n\u001b[1;32m---> 66\u001b[1;33m       \u001b[1;32mreturn\u001b[0m \u001b[0mmethod\u001b[0m\u001b[1;33m(\u001b[0m\u001b[0mself\u001b[0m\u001b[1;33m,\u001b[0m \u001b[1;33m*\u001b[0m\u001b[0margs\u001b[0m\u001b[1;33m,\u001b[0m \u001b[1;33m**\u001b[0m\u001b[0mkwargs\u001b[0m\u001b[1;33m)\u001b[0m\u001b[1;33m\u001b[0m\u001b[1;33m\u001b[0m\u001b[0m\n\u001b[0m\u001b[0;32m     67\u001b[0m \u001b[1;33m\u001b[0m\u001b[0m\n\u001b[0;32m     68\u001b[0m     \u001b[1;31m# Running inside `run_distribute_coordinator` already.\u001b[0m\u001b[1;33m\u001b[0m\u001b[1;33m\u001b[0m\u001b[1;33m\u001b[0m\u001b[0m\n",
      "\u001b[1;32mc:\\users\\offic\\venv\\lib\\site-packages\\tensorflow\\python\\keras\\engine\\training.py\u001b[0m in \u001b[0;36mfit\u001b[1;34m(self, x, y, batch_size, epochs, verbose, callbacks, validation_split, validation_data, shuffle, class_weight, sample_weight, initial_epoch, steps_per_epoch, validation_steps, validation_batch_size, validation_freq, max_queue_size, workers, use_multiprocessing)\u001b[0m\n\u001b[0;32m    853\u001b[0m                 \u001b[0mcontext\u001b[0m\u001b[1;33m.\u001b[0m\u001b[0masync_wait\u001b[0m\u001b[1;33m(\u001b[0m\u001b[1;33m)\u001b[0m\u001b[1;33m\u001b[0m\u001b[1;33m\u001b[0m\u001b[0m\n\u001b[0;32m    854\u001b[0m               \u001b[0mlogs\u001b[0m \u001b[1;33m=\u001b[0m \u001b[0mtmp_logs\u001b[0m  \u001b[1;31m# No error, now safe to assign to logs.\u001b[0m\u001b[1;33m\u001b[0m\u001b[1;33m\u001b[0m\u001b[0m\n\u001b[1;32m--> 855\u001b[1;33m               \u001b[0mcallbacks\u001b[0m\u001b[1;33m.\u001b[0m\u001b[0mon_train_batch_end\u001b[0m\u001b[1;33m(\u001b[0m\u001b[0mstep\u001b[0m\u001b[1;33m,\u001b[0m \u001b[0mlogs\u001b[0m\u001b[1;33m)\u001b[0m\u001b[1;33m\u001b[0m\u001b[1;33m\u001b[0m\u001b[0m\n\u001b[0m\u001b[0;32m    856\u001b[0m         \u001b[0mepoch_logs\u001b[0m \u001b[1;33m=\u001b[0m \u001b[0mcopy\u001b[0m\u001b[1;33m.\u001b[0m\u001b[0mcopy\u001b[0m\u001b[1;33m(\u001b[0m\u001b[0mlogs\u001b[0m\u001b[1;33m)\u001b[0m\u001b[1;33m\u001b[0m\u001b[1;33m\u001b[0m\u001b[0m\n\u001b[0;32m    857\u001b[0m \u001b[1;33m\u001b[0m\u001b[0m\n",
      "\u001b[1;32mc:\\users\\offic\\venv\\lib\\site-packages\\tensorflow\\python\\keras\\callbacks.py\u001b[0m in \u001b[0;36mon_train_batch_end\u001b[1;34m(self, batch, logs)\u001b[0m\n\u001b[0;32m    387\u001b[0m     \"\"\"\n\u001b[0;32m    388\u001b[0m     \u001b[1;32mif\u001b[0m \u001b[0mself\u001b[0m\u001b[1;33m.\u001b[0m\u001b[0m_should_call_train_batch_hooks\u001b[0m\u001b[1;33m:\u001b[0m\u001b[1;33m\u001b[0m\u001b[1;33m\u001b[0m\u001b[0m\n\u001b[1;32m--> 389\u001b[1;33m       \u001b[0mlogs\u001b[0m \u001b[1;33m=\u001b[0m \u001b[0mself\u001b[0m\u001b[1;33m.\u001b[0m\u001b[0m_process_logs\u001b[0m\u001b[1;33m(\u001b[0m\u001b[0mlogs\u001b[0m\u001b[1;33m)\u001b[0m\u001b[1;33m\u001b[0m\u001b[1;33m\u001b[0m\u001b[0m\n\u001b[0m\u001b[0;32m    390\u001b[0m       \u001b[0mself\u001b[0m\u001b[1;33m.\u001b[0m\u001b[0m_call_batch_hook\u001b[0m\u001b[1;33m(\u001b[0m\u001b[0mModeKeys\u001b[0m\u001b[1;33m.\u001b[0m\u001b[0mTRAIN\u001b[0m\u001b[1;33m,\u001b[0m \u001b[1;34m'end'\u001b[0m\u001b[1;33m,\u001b[0m \u001b[0mbatch\u001b[0m\u001b[1;33m,\u001b[0m \u001b[0mlogs\u001b[0m\u001b[1;33m=\u001b[0m\u001b[0mlogs\u001b[0m\u001b[1;33m)\u001b[0m\u001b[1;33m\u001b[0m\u001b[1;33m\u001b[0m\u001b[0m\n\u001b[0;32m    391\u001b[0m \u001b[1;33m\u001b[0m\u001b[0m\n",
      "\u001b[1;32mc:\\users\\offic\\venv\\lib\\site-packages\\tensorflow\\python\\keras\\callbacks.py\u001b[0m in \u001b[0;36m_process_logs\u001b[1;34m(self, logs)\u001b[0m\n\u001b[0;32m    263\u001b[0m     \u001b[1;34m\"\"\"Turns tensors into numpy arrays or Python scalars.\"\"\"\u001b[0m\u001b[1;33m\u001b[0m\u001b[1;33m\u001b[0m\u001b[0m\n\u001b[0;32m    264\u001b[0m     \u001b[1;32mif\u001b[0m \u001b[0mlogs\u001b[0m\u001b[1;33m:\u001b[0m\u001b[1;33m\u001b[0m\u001b[1;33m\u001b[0m\u001b[0m\n\u001b[1;32m--> 265\u001b[1;33m       \u001b[1;32mreturn\u001b[0m \u001b[0mtf_utils\u001b[0m\u001b[1;33m.\u001b[0m\u001b[0mto_numpy_or_python_type\u001b[0m\u001b[1;33m(\u001b[0m\u001b[0mlogs\u001b[0m\u001b[1;33m)\u001b[0m\u001b[1;33m\u001b[0m\u001b[1;33m\u001b[0m\u001b[0m\n\u001b[0m\u001b[0;32m    266\u001b[0m     \u001b[1;32mreturn\u001b[0m \u001b[1;33m{\u001b[0m\u001b[1;33m}\u001b[0m\u001b[1;33m\u001b[0m\u001b[1;33m\u001b[0m\u001b[0m\n\u001b[0;32m    267\u001b[0m \u001b[1;33m\u001b[0m\u001b[0m\n",
      "\u001b[1;32mc:\\users\\offic\\venv\\lib\\site-packages\\tensorflow\\python\\keras\\utils\\tf_utils.py\u001b[0m in \u001b[0;36mto_numpy_or_python_type\u001b[1;34m(tensors)\u001b[0m\n\u001b[0;32m    521\u001b[0m     \u001b[1;32mreturn\u001b[0m \u001b[0mt\u001b[0m  \u001b[1;31m# Don't turn ragged or sparse tensors to NumPy.\u001b[0m\u001b[1;33m\u001b[0m\u001b[1;33m\u001b[0m\u001b[0m\n\u001b[0;32m    522\u001b[0m \u001b[1;33m\u001b[0m\u001b[0m\n\u001b[1;32m--> 523\u001b[1;33m   \u001b[1;32mreturn\u001b[0m \u001b[0mnest\u001b[0m\u001b[1;33m.\u001b[0m\u001b[0mmap_structure\u001b[0m\u001b[1;33m(\u001b[0m\u001b[0m_to_single_numpy_or_python_type\u001b[0m\u001b[1;33m,\u001b[0m \u001b[0mtensors\u001b[0m\u001b[1;33m)\u001b[0m\u001b[1;33m\u001b[0m\u001b[1;33m\u001b[0m\u001b[0m\n\u001b[0m\u001b[0;32m    524\u001b[0m \u001b[1;33m\u001b[0m\u001b[0m\n",
      "\u001b[1;32mc:\\users\\offic\\venv\\lib\\site-packages\\tensorflow\\python\\util\\nest.py\u001b[0m in \u001b[0;36mmap_structure\u001b[1;34m(func, *structure, **kwargs)\u001b[0m\n\u001b[0;32m    615\u001b[0m \u001b[1;33m\u001b[0m\u001b[0m\n\u001b[0;32m    616\u001b[0m   return pack_sequence_as(\n\u001b[1;32m--> 617\u001b[1;33m       \u001b[0mstructure\u001b[0m\u001b[1;33m[\u001b[0m\u001b[1;36m0\u001b[0m\u001b[1;33m]\u001b[0m\u001b[1;33m,\u001b[0m \u001b[1;33m[\u001b[0m\u001b[0mfunc\u001b[0m\u001b[1;33m(\u001b[0m\u001b[1;33m*\u001b[0m\u001b[0mx\u001b[0m\u001b[1;33m)\u001b[0m \u001b[1;32mfor\u001b[0m \u001b[0mx\u001b[0m \u001b[1;32min\u001b[0m \u001b[0mentries\u001b[0m\u001b[1;33m]\u001b[0m\u001b[1;33m,\u001b[0m\u001b[1;33m\u001b[0m\u001b[1;33m\u001b[0m\u001b[0m\n\u001b[0m\u001b[0;32m    618\u001b[0m       expand_composites=expand_composites)\n\u001b[0;32m    619\u001b[0m \u001b[1;33m\u001b[0m\u001b[0m\n",
      "\u001b[1;32mc:\\users\\offic\\venv\\lib\\site-packages\\tensorflow\\python\\util\\nest.py\u001b[0m in \u001b[0;36m<listcomp>\u001b[1;34m(.0)\u001b[0m\n\u001b[0;32m    615\u001b[0m \u001b[1;33m\u001b[0m\u001b[0m\n\u001b[0;32m    616\u001b[0m   return pack_sequence_as(\n\u001b[1;32m--> 617\u001b[1;33m       \u001b[0mstructure\u001b[0m\u001b[1;33m[\u001b[0m\u001b[1;36m0\u001b[0m\u001b[1;33m]\u001b[0m\u001b[1;33m,\u001b[0m \u001b[1;33m[\u001b[0m\u001b[0mfunc\u001b[0m\u001b[1;33m(\u001b[0m\u001b[1;33m*\u001b[0m\u001b[0mx\u001b[0m\u001b[1;33m)\u001b[0m \u001b[1;32mfor\u001b[0m \u001b[0mx\u001b[0m \u001b[1;32min\u001b[0m \u001b[0mentries\u001b[0m\u001b[1;33m]\u001b[0m\u001b[1;33m,\u001b[0m\u001b[1;33m\u001b[0m\u001b[1;33m\u001b[0m\u001b[0m\n\u001b[0m\u001b[0;32m    618\u001b[0m       expand_composites=expand_composites)\n\u001b[0;32m    619\u001b[0m \u001b[1;33m\u001b[0m\u001b[0m\n",
      "\u001b[1;32mc:\\users\\offic\\venv\\lib\\site-packages\\tensorflow\\python\\keras\\utils\\tf_utils.py\u001b[0m in \u001b[0;36m_to_single_numpy_or_python_type\u001b[1;34m(t)\u001b[0m\n\u001b[0;32m    517\u001b[0m   \u001b[1;32mdef\u001b[0m \u001b[0m_to_single_numpy_or_python_type\u001b[0m\u001b[1;33m(\u001b[0m\u001b[0mt\u001b[0m\u001b[1;33m)\u001b[0m\u001b[1;33m:\u001b[0m\u001b[1;33m\u001b[0m\u001b[1;33m\u001b[0m\u001b[0m\n\u001b[0;32m    518\u001b[0m     \u001b[1;32mif\u001b[0m \u001b[0misinstance\u001b[0m\u001b[1;33m(\u001b[0m\u001b[0mt\u001b[0m\u001b[1;33m,\u001b[0m \u001b[0mops\u001b[0m\u001b[1;33m.\u001b[0m\u001b[0mTensor\u001b[0m\u001b[1;33m)\u001b[0m\u001b[1;33m:\u001b[0m\u001b[1;33m\u001b[0m\u001b[1;33m\u001b[0m\u001b[0m\n\u001b[1;32m--> 519\u001b[1;33m       \u001b[0mx\u001b[0m \u001b[1;33m=\u001b[0m \u001b[0mt\u001b[0m\u001b[1;33m.\u001b[0m\u001b[0mnumpy\u001b[0m\u001b[1;33m(\u001b[0m\u001b[1;33m)\u001b[0m\u001b[1;33m\u001b[0m\u001b[1;33m\u001b[0m\u001b[0m\n\u001b[0m\u001b[0;32m    520\u001b[0m       \u001b[1;32mreturn\u001b[0m \u001b[0mx\u001b[0m\u001b[1;33m.\u001b[0m\u001b[0mitem\u001b[0m\u001b[1;33m(\u001b[0m\u001b[1;33m)\u001b[0m \u001b[1;32mif\u001b[0m \u001b[0mnp\u001b[0m\u001b[1;33m.\u001b[0m\u001b[0mndim\u001b[0m\u001b[1;33m(\u001b[0m\u001b[0mx\u001b[0m\u001b[1;33m)\u001b[0m \u001b[1;33m==\u001b[0m \u001b[1;36m0\u001b[0m \u001b[1;32melse\u001b[0m \u001b[0mx\u001b[0m\u001b[1;33m\u001b[0m\u001b[1;33m\u001b[0m\u001b[0m\n\u001b[0;32m    521\u001b[0m     \u001b[1;32mreturn\u001b[0m \u001b[0mt\u001b[0m  \u001b[1;31m# Don't turn ragged or sparse tensors to NumPy.\u001b[0m\u001b[1;33m\u001b[0m\u001b[1;33m\u001b[0m\u001b[0m\n",
      "\u001b[1;32mc:\\users\\offic\\venv\\lib\\site-packages\\tensorflow\\python\\framework\\ops.py\u001b[0m in \u001b[0;36mnumpy\u001b[1;34m(self)\u001b[0m\n\u001b[0;32m    959\u001b[0m     \"\"\"\n\u001b[0;32m    960\u001b[0m     \u001b[1;31m# TODO(slebedev): Consider avoiding a copy for non-CPU or remote tensors.\u001b[0m\u001b[1;33m\u001b[0m\u001b[1;33m\u001b[0m\u001b[1;33m\u001b[0m\u001b[0m\n\u001b[1;32m--> 961\u001b[1;33m     \u001b[0mmaybe_arr\u001b[0m \u001b[1;33m=\u001b[0m \u001b[0mself\u001b[0m\u001b[1;33m.\u001b[0m\u001b[0m_numpy\u001b[0m\u001b[1;33m(\u001b[0m\u001b[1;33m)\u001b[0m  \u001b[1;31m# pylint: disable=protected-access\u001b[0m\u001b[1;33m\u001b[0m\u001b[1;33m\u001b[0m\u001b[0m\n\u001b[0m\u001b[0;32m    962\u001b[0m     \u001b[1;32mreturn\u001b[0m \u001b[0mmaybe_arr\u001b[0m\u001b[1;33m.\u001b[0m\u001b[0mcopy\u001b[0m\u001b[1;33m(\u001b[0m\u001b[1;33m)\u001b[0m \u001b[1;32mif\u001b[0m \u001b[0misinstance\u001b[0m\u001b[1;33m(\u001b[0m\u001b[0mmaybe_arr\u001b[0m\u001b[1;33m,\u001b[0m \u001b[0mnp\u001b[0m\u001b[1;33m.\u001b[0m\u001b[0mndarray\u001b[0m\u001b[1;33m)\u001b[0m \u001b[1;32melse\u001b[0m \u001b[0mmaybe_arr\u001b[0m\u001b[1;33m\u001b[0m\u001b[1;33m\u001b[0m\u001b[0m\n\u001b[0;32m    963\u001b[0m \u001b[1;33m\u001b[0m\u001b[0m\n",
      "\u001b[1;32mc:\\users\\offic\\venv\\lib\\site-packages\\tensorflow\\python\\framework\\ops.py\u001b[0m in \u001b[0;36m_numpy\u001b[1;34m(self)\u001b[0m\n\u001b[0;32m    925\u001b[0m     \u001b[1;31m# pylint: disable=protected-access\u001b[0m\u001b[1;33m\u001b[0m\u001b[1;33m\u001b[0m\u001b[1;33m\u001b[0m\u001b[0m\n\u001b[0;32m    926\u001b[0m     \u001b[1;32mtry\u001b[0m\u001b[1;33m:\u001b[0m\u001b[1;33m\u001b[0m\u001b[1;33m\u001b[0m\u001b[0m\n\u001b[1;32m--> 927\u001b[1;33m       \u001b[1;32mreturn\u001b[0m \u001b[0mself\u001b[0m\u001b[1;33m.\u001b[0m\u001b[0m_numpy_internal\u001b[0m\u001b[1;33m(\u001b[0m\u001b[1;33m)\u001b[0m\u001b[1;33m\u001b[0m\u001b[1;33m\u001b[0m\u001b[0m\n\u001b[0m\u001b[0;32m    928\u001b[0m     \u001b[1;32mexcept\u001b[0m \u001b[0mcore\u001b[0m\u001b[1;33m.\u001b[0m\u001b[0m_NotOkStatusException\u001b[0m \u001b[1;32mas\u001b[0m \u001b[0me\u001b[0m\u001b[1;33m:\u001b[0m\u001b[1;33m\u001b[0m\u001b[1;33m\u001b[0m\u001b[0m\n\u001b[0;32m    929\u001b[0m       \u001b[0msix\u001b[0m\u001b[1;33m.\u001b[0m\u001b[0mraise_from\u001b[0m\u001b[1;33m(\u001b[0m\u001b[0mcore\u001b[0m\u001b[1;33m.\u001b[0m\u001b[0m_status_to_exception\u001b[0m\u001b[1;33m(\u001b[0m\u001b[0me\u001b[0m\u001b[1;33m.\u001b[0m\u001b[0mcode\u001b[0m\u001b[1;33m,\u001b[0m \u001b[0me\u001b[0m\u001b[1;33m.\u001b[0m\u001b[0mmessage\u001b[0m\u001b[1;33m)\u001b[0m\u001b[1;33m,\u001b[0m \u001b[1;32mNone\u001b[0m\u001b[1;33m)\u001b[0m\u001b[1;33m\u001b[0m\u001b[1;33m\u001b[0m\u001b[0m\n",
      "\u001b[1;31mKeyboardInterrupt\u001b[0m: "
     ]
    }
   ],
   "source": [
    "es = tf.keras.callbacks.EarlyStopping(monitor='val_loss', \n",
    "                                      mode = 'auto', \n",
    "                                      patience=5,\n",
    "                                      restore_best_weights=True, \n",
    "                                     )\n",
    "reduce_lr = tf.keras.callbacks.ReduceLROnPlateau(monitor='val_loss', \n",
    "                              patience=2, min_lr=0.00001)\n",
    "\n",
    "log_dir = r\"C:\\Users\\offic\\Documents\\GitStuff\\NOTEMNIST\\logs\\fit\" + datetime.datetime.now().strftime(\"%d%m-%H%M\")\n",
    "tensorboard_callback = tf.keras.callbacks.TensorBoard(log_dir=log_dir, histogram_freq=1)\n",
    "\n",
    "\n",
    "history = model.fit(train_gen,\n",
    "                    steps_per_epoch = train_steps,\n",
    "                    epochs=1000, \n",
    "                    callbacks=[es, reduce_lr, tensorboard_callback],\n",
    "                    validation_data = test_gen,\n",
    "                    validation_steps = test_steps\n",
    "                   )\n",
    "\n",
    "print(history.history.keys())\n",
    "plt.plot(history.history['loss'])\n",
    "plt.plot(history.history['val_loss'])\n",
    "plt.title('CatCrEntr')\n",
    "plt.ylabel('CrEntr')\n",
    "plt.xlabel('epoch')\n",
    "plt.legend(['train', 'test'], loc='upper left')\n",
    "plt.show()"
   ]
  },
  {
   "cell_type": "code",
   "execution_count": 46,
   "metadata": {},
   "outputs": [],
   "source": [
    "keras.backend.clear_session()\n",
    "model = Sequential()\n",
    "model.add(Conv2D(256,kernel_size = (3,3), input_shape = (28,28,3), padding = 'same',activation='relu'))\n",
    "model.add(MaxPooling2D(pool_size=2))\n",
    "model.add(Conv2D(256,kernel_size = (3,3), padding = 'same',activation='relu'))\n",
    "model.add(MaxPooling2D(pool_size=2))\n",
    "model.add(Conv2D(256,kernel_size = (8,8), padding = 'same',activation='relu'))\n",
    "model.add(MaxPooling2D(pool_size=2))\n",
    "model.add(Conv2D(256,kernel_size = (8,8), padding = 'same',activation='relu'))\n",
    "model.add(MaxPooling2D(pool_size=2))\n",
    "model.add(Flatten())\n",
    "model.add(Dense(10, activation='softmax'))\n",
    "model.compile(optimizer = 'adam',loss = 'CategoricalCrossentropy',  metrics = ['accuracy'])"
   ]
  },
  {
   "cell_type": "code",
   "execution_count": 47,
   "metadata": {},
   "outputs": [
    {
     "name": "stdout",
     "output_type": "stream",
     "text": [
      "Epoch 1/1000\n",
      "    2/23149 [..............................] - ETA: 4:02:55 - loss: 2.2193 - accuracy: 0.0625WARNING:tensorflow:Method (on_train_batch_end) is slow compared to the batch update (0.624704). Check your callbacks.\n",
      "23149/23149 [==============================] - 791s 34ms/step - loss: 0.3082 - accuracy: 0.9049 - val_loss: 0.2541 - val_accuracy: 0.9255 - lr: 0.0010\n",
      "Epoch 2/1000\n",
      "23149/23149 [==============================] - 772s 33ms/step - loss: 0.2335 - accuracy: 0.9271 - val_loss: 0.2381 - val_accuracy: 0.9295 - lr: 0.0010\n",
      "Epoch 3/1000\n",
      "23149/23149 [==============================] - 722s 31ms/step - loss: 0.2072 - accuracy: 0.9347 - val_loss: 0.2465 - val_accuracy: 0.9302 - lr: 0.0010\n",
      "Epoch 4/1000\n",
      "23149/23149 [==============================] - 733s 32ms/step - loss: 0.1890 - accuracy: 0.9403 - val_loss: 0.2672 - val_accuracy: 0.9294 - lr: 0.0010\n",
      "Epoch 5/1000\n",
      "23149/23149 [==============================] - 761s 33ms/step - loss: 0.1286 - accuracy: 0.9575 - val_loss: 0.2690 - val_accuracy: 0.9358 - lr: 1.0000e-04\n",
      "Epoch 6/1000\n",
      "23149/23149 [==============================] - 782s 34ms/step - loss: 0.1031 - accuracy: 0.9658 - val_loss: 0.2934 - val_accuracy: 0.9363 - lr: 1.0000e-04\n",
      "Epoch 7/1000\n",
      "23149/23149 [==============================] - 763s 33ms/step - loss: 0.0826 - accuracy: 0.9731 - val_loss: 0.3121 - val_accuracy: 0.9368 - lr: 1.0000e-05\n",
      "dict_keys(['loss', 'accuracy', 'val_loss', 'val_accuracy', 'lr'])\n"
     ]
    },
    {
     "data": {
      "image/png": "[encoded data removed]",
      "text/plain": [
       "<Figure size 432x288 with 1 Axes>"
      ]
     },
     "metadata": {
      "needs_background": "light"
     },
     "output_type": "display_data"
    }
   ],
   "source": [
    "es = tf.keras.callbacks.EarlyStopping(monitor='val_loss', \n",
    "                                      mode = 'auto', \n",
    "                                      patience=5,\n",
    "                                      restore_best_weights=True, \n",
    "                                     )\n",
    "reduce_lr = tf.keras.callbacks.ReduceLROnPlateau(monitor='val_loss', \n",
    "                              patience=2, min_lr=0.00001)\n",
    "\n",
    "log_dir = r\"C:\\Users\\offic\\Documents\\GitStuff\\NOTEMNIST\\logs\\fit\" + datetime.datetime.now().strftime(\"%d%m-%H%M\")\n",
    "tensorboard_callback = tf.keras.callbacks.TensorBoard(log_dir=log_dir, histogram_freq=1)\n",
    "\n",
    "\n",
    "history = model.fit(train_gen,\n",
    "                    steps_per_epoch = train_steps,\n",
    "                    epochs=1000, \n",
    "                    callbacks=[es, reduce_lr, tensorboard_callback],\n",
    "                    validation_data = test_gen,\n",
    "                    validation_steps = test_steps\n",
    "                   )\n",
    "\n",
    "print(history.history.keys())\n",
    "plt.plot(history.history['loss'])\n",
    "plt.plot(history.history['val_loss'])\n",
    "plt.title('CatCrEntr')\n",
    "plt.ylabel('CrEntr')\n",
    "plt.xlabel('epoch')\n",
    "plt.legend(['train', 'test'], loc='upper left')\n",
    "plt.show()"
   ]
  },
  {
   "cell_type": "code",
   "execution_count": null,
   "metadata": {},
   "outputs": [],
   "source": [
    "model.save(r'C:\\Users\\offic\\Documents\\GitStuff\\NOTEMNIST\\mymodel1')"
   ]
  },
  {
   "cell_type": "markdown",
   "metadata": {},
   "source": [
    "# NotEmnistSmall"
   ]
  },
  {
   "cell_type": "code",
   "execution_count": 5,
   "metadata": {},
   "outputs": [],
   "source": [
    "classes = os.listdir(r'C:\\Users\\offic\\Documents\\GitStuff\\NOTEMNIST\\notMNIST_small\\notMNIST_small')"
   ]
  },
  {
   "cell_type": "code",
   "execution_count": 6,
   "metadata": {},
   "outputs": [],
   "source": [
    "for i in classes:\n",
    "    imgs = os.listdir(os.path.join(r'C:\\Users\\offic\\Documents\\GitStuff\\NOTEMNIST\\notMNIST_small\\notMNIST_small', i))\n",
    "    for j in imgs:\n",
    "        try:\n",
    "            a = Image.open(r'C:\\Users\\offic\\Documents\\GitStuff\\NOTEMNIST\\notMNIST_small\\notMNIST_small'+'\\\\' + i + '\\\\' + j)\n",
    "        except:\n",
    "            a == 'UnidentifiedImageError'\n",
    "            os.remove(r'C:\\Users\\offic\\Documents\\GitStuff\\NOTEMNIST\\notMNIST_small\\notMNIST_small'+'\\\\' + i + '\\\\' + j)"
   ]
  },
  {
   "cell_type": "code",
   "execution_count": 7,
   "metadata": {},
   "outputs": [],
   "source": [
    "image_gen = ImageDataGenerator(validation_split = 0.1, rescale=1.0/255.0, zoom_range = [0.5,1.5])"
   ]
  },
  {
   "cell_type": "code",
   "execution_count": 8,
   "metadata": {},
   "outputs": [
    {
     "name": "stdout",
     "output_type": "stream",
     "text": [
      "Found 16854 images belonging to 10 classes.\n",
      "Found 1870 images belonging to 10 classes.\n"
     ]
    }
   ],
   "source": [
    "train_gen = image_gen.flow_from_directory(r'C:\\Users\\offic\\Documents\\GitStuff\\NOTEMNIST\\notMNIST_small\\notMNIST_small',\n",
    "                                          target_size = (28,28),\n",
    "                                          classes = classes,\n",
    "                                          subset = 'training',\n",
    "                                          batch_size = 16,\n",
    "                                          shuffle = True\n",
    "                                         )\n",
    "test_gen = image_gen.flow_from_directory(r'C:\\Users\\offic\\Documents\\GitStuff\\NOTEMNIST\\notMNIST_small\\notMNIST_small',\n",
    "                                         target_size = (28,28),\n",
    "                                         classes = classes,\n",
    "                                         subset = 'validation',\n",
    "                                         batch_size = 16,\n",
    "                                         shuffle = True\n",
    "                                         )"
   ]
  },
  {
   "cell_type": "code",
   "execution_count": 9,
   "metadata": {},
   "outputs": [],
   "source": [
    "train_steps = (train_gen.samples//16)\n",
    "test_steps = (test_gen.samples//16)"
   ]
  },
  {
   "cell_type": "code",
   "execution_count": 23,
   "metadata": {},
   "outputs": [],
   "source": [
    "keras.backend.clear_session()\n",
    "model = Sequential()\n",
    "model.add(Conv2D(256,kernel_size = (3,3), input_shape = (28,28,3), padding = 'same',activation='relu'))\n",
    "model.add(MaxPooling2D(pool_size=2))\n",
    "model.add(Conv2D(256,kernel_size = (3,3), padding = 'same',activation='relu'))\n",
    "model.add(MaxPooling2D(pool_size=2))\n",
    "model.add(Conv2D(256,kernel_size = (8,8), padding = 'same',activation='relu'))\n",
    "model.add(MaxPooling2D(pool_size=2))\n",
    "model.add(Conv2D(256,kernel_size = (8,8), padding = 'same',activation='relu'))\n",
    "model.add(MaxPooling2D(pool_size=2))\n",
    "model.add(Flatten())\n",
    "model.add(Dense(10, activation='softmax'))\n",
    "model.compile(optimizer = 'adam',loss = 'CategoricalCrossentropy',  metrics = ['accuracy'])"
   ]
  },
  {
   "cell_type": "code",
   "execution_count": 24,
   "metadata": {},
   "outputs": [
    {
     "name": "stdout",
     "output_type": "stream",
     "text": [
      "Epoch 1/1000\n",
      "  2/936 [..............................] - ETA: 3:52 - loss: 2.3865 - accuracy: 0.0625WARNING:tensorflow:Method (on_train_batch_end) is slow compared to the batch update (0.242833). Check your callbacks.\n",
      "936/936 [==============================] - 29s 31ms/step - loss: 0.3438 - accuracy: 0.8942 - val_loss: 0.1805 - val_accuracy: 0.9450 - lr: 0.0010\n",
      "Epoch 2/1000\n",
      "936/936 [==============================] - 28s 30ms/step - loss: 0.1732 - accuracy: 0.9464 - val_loss: 0.1824 - val_accuracy: 0.9528 - lr: 0.0010\n",
      "Epoch 3/1000\n",
      "936/936 [==============================] - 28s 30ms/step - loss: 0.1133 - accuracy: 0.9623 - val_loss: 0.1650 - val_accuracy: 0.9536 - lr: 0.0010\n",
      "Epoch 4/1000\n",
      "936/936 [==============================] - 28s 30ms/step - loss: 0.0851 - accuracy: 0.9723 - val_loss: 0.2436 - val_accuracy: 0.9423 - lr: 0.0010\n",
      "Epoch 5/1000\n",
      "936/936 [==============================] - 28s 30ms/step - loss: 0.0598 - accuracy: 0.9806 - val_loss: 0.1688 - val_accuracy: 0.9600 - lr: 0.0010\n",
      "Epoch 6/1000\n",
      "936/936 [==============================] - 28s 30ms/step - loss: 0.0250 - accuracy: 0.9923 - val_loss: 0.1626 - val_accuracy: 0.9651 - lr: 1.0000e-04\n",
      "Epoch 7/1000\n",
      "936/936 [==============================] - 28s 30ms/step - loss: 0.0104 - accuracy: 0.9971 - val_loss: 0.1838 - val_accuracy: 0.9659 - lr: 1.0000e-04\n",
      "Epoch 8/1000\n",
      "936/936 [==============================] - 28s 30ms/step - loss: 0.0067 - accuracy: 0.9981 - val_loss: 0.1995 - val_accuracy: 0.9667 - lr: 1.0000e-04\n",
      "Epoch 9/1000\n",
      "936/936 [==============================] - 28s 30ms/step - loss: 0.0048 - accuracy: 0.9987 - val_loss: 0.2052 - val_accuracy: 0.9662 - lr: 1.0000e-05\n",
      "Epoch 10/1000\n",
      "936/936 [==============================] - 27s 29ms/step - loss: 0.0045 - accuracy: 0.9989 - val_loss: 0.2092 - val_accuracy: 0.9670 - lr: 1.0000e-05\n",
      "Epoch 11/1000\n",
      "936/936 [==============================] - 27s 29ms/step - loss: 0.0043 - accuracy: 0.9988 - val_loss: 0.2129 - val_accuracy: 0.9673 - lr: 1.0000e-05\n",
      "dict_keys(['loss', 'accuracy', 'val_loss', 'val_accuracy', 'lr'])\n"
     ]
    },
    {
     "data": {
      "image/png": "[encoded data removed]",
      "text/plain": [
       "<Figure size 432x288 with 1 Axes>"
      ]
     },
     "metadata": {
      "needs_background": "light"
     },
     "output_type": "display_data"
    }
   ],
   "source": [
    "es = tf.keras.callbacks.EarlyStopping(monitor='val_loss', \n",
    "                                      mode = 'auto', \n",
    "                                      patience=5,\n",
    "                                      restore_best_weights=True, \n",
    "                                     )\n",
    "reduce_lr = tf.keras.callbacks.ReduceLROnPlateau(monitor='val_loss', \n",
    "                              patience=2, min_lr=0.00001)\n",
    "\n",
    "log_dir = r\"C:\\Users\\offic\\Documents\\GitStuff\\NOTEMNIST\\logs\\fit\" + datetime.datetime.now().strftime(\"%d%m-%H%M\")\n",
    "tensorboard_callback = tf.keras.callbacks.TensorBoard(log_dir=log_dir, histogram_freq=1)\n",
    "\n",
    "\n",
    "history = model.fit(train_gen,\n",
    "                    steps_per_epoch = train_steps,\n",
    "                    epochs=1000, \n",
    "                    callbacks=[es, reduce_lr, tensorboard_callback],\n",
    "                    validation_data = test_gen,\n",
    "                    validation_steps = test_steps\n",
    "                   )\n",
    "\n",
    "print(history.history.keys())\n",
    "plt.plot(history.history['loss'])\n",
    "plt.plot(history.history['val_loss'])\n",
    "plt.title('CatCrEntr')\n",
    "plt.ylabel('CrEntr')\n",
    "plt.xlabel('epoch')\n",
    "plt.legend(['train', 'test'], loc='upper left')\n",
    "plt.show()"
   ]
  },
  {
   "cell_type": "code",
   "execution_count": 8,
   "metadata": {},
   "outputs": [],
   "source": [
    "keras.backend.clear_session()\n",
    "model = Sequential()\n",
    "model.add(Conv2D(12,kernel_size = (2,2), input_shape = (28,28,3), padding = 'same',activation='relu'))\n",
    "model.add(MaxPooling2D(pool_size=2))\n",
    "model.add(Conv2D(8,kernel_size = (4,4), padding = 'same',activation='relu'))\n",
    "model.add(MaxPooling2D(pool_size=2))\n",
    "model.add(Conv2D(4,kernel_size = (4,4), padding = 'same',activation='relu'))\n",
    "model.add(MaxPooling2D(pool_size=2))\n",
    "model.add(Conv2D(2,kernel_size = (4,4), padding = 'same',activation='relu'))\n",
    "model.add(MaxPooling2D(pool_size=2))\n",
    "model.add(Flatten())\n",
    "model.add(Dense(10, activation='softmax'))\n",
    "model.compile(optimizer = 'adam',loss = 'CategoricalCrossentropy',  metrics = ['accuracy'])"
   ]
  },
  {
   "cell_type": "code",
   "execution_count": 9,
   "metadata": {},
   "outputs": [
    {
     "name": "stdout",
     "output_type": "stream",
     "text": [
      "Epoch 1/1000\n",
      "936/936 [==============================] - 13s 14ms/step - loss: 1.8236 - accuracy: 0.3123 - val_loss: 1.5982 - val_accuracy: 0.4067 - lr: 0.0010\n",
      "Epoch 2/1000\n",
      "936/936 [==============================] - 11s 12ms/step - loss: 1.5466 - accuracy: 0.4180 - val_loss: 1.4286 - val_accuracy: 0.4635 - lr: 0.0010\n",
      "Epoch 3/1000\n",
      "936/936 [==============================] - 11s 12ms/step - loss: 1.4433 - accuracy: 0.4510 - val_loss: 1.3590 - val_accuracy: 0.4941 - lr: 0.0010\n",
      "Epoch 4/1000\n",
      "936/936 [==============================] - 11s 12ms/step - loss: 1.3843 - accuracy: 0.4720 - val_loss: 1.2996 - val_accuracy: 0.5204 - lr: 0.0010\n",
      "Epoch 5/1000\n",
      "936/936 [==============================] - 11s 12ms/step - loss: 1.3204 - accuracy: 0.5196 - val_loss: 1.2386 - val_accuracy: 0.5842 - lr: 0.0010\n",
      "Epoch 6/1000\n",
      "936/936 [==============================] - 11s 12ms/step - loss: 1.2576 - accuracy: 0.5841 - val_loss: 1.1938 - val_accuracy: 0.6234 - lr: 0.0010\n",
      "Epoch 7/1000\n",
      "936/936 [==============================] - 11s 12ms/step - loss: 1.1922 - accuracy: 0.6255 - val_loss: 1.1128 - val_accuracy: 0.6714 - lr: 0.0010\n",
      "Epoch 8/1000\n",
      "936/936 [==============================] - 11s 12ms/step - loss: 1.1404 - accuracy: 0.6442 - val_loss: 1.0854 - val_accuracy: 0.6682 - lr: 0.0010\n",
      "Epoch 9/1000\n",
      "936/936 [==============================] - 11s 12ms/step - loss: 1.1064 - accuracy: 0.6680 - val_loss: 1.0114 - val_accuracy: 0.7063 - lr: 0.0010\n",
      "Epoch 10/1000\n",
      "936/936 [==============================] - 11s 12ms/step - loss: 1.0858 - accuracy: 0.6777 - val_loss: 1.0114 - val_accuracy: 0.7127 - lr: 0.0010\n",
      "Epoch 11/1000\n",
      "936/936 [==============================] - 11s 12ms/step - loss: 1.0585 - accuracy: 0.6909 - val_loss: 1.0062 - val_accuracy: 0.7023 - lr: 0.0010\n",
      "Epoch 12/1000\n",
      "936/936 [==============================] - 11s 12ms/step - loss: 1.0505 - accuracy: 0.6893 - val_loss: 0.9937 - val_accuracy: 0.7130 - lr: 0.0010\n",
      "Epoch 13/1000\n",
      "936/936 [==============================] - 11s 12ms/step - loss: 1.0177 - accuracy: 0.7137 - val_loss: 0.9769 - val_accuracy: 0.7377 - lr: 0.0010\n",
      "Epoch 14/1000\n",
      "936/936 [==============================] - 11s 12ms/step - loss: 1.0091 - accuracy: 0.7187 - val_loss: 0.9278 - val_accuracy: 0.7580 - lr: 0.0010\n",
      "Epoch 15/1000\n",
      "936/936 [==============================] - 11s 12ms/step - loss: 0.9939 - accuracy: 0.7280 - val_loss: 0.9303 - val_accuracy: 0.7551 - lr: 0.0010\n",
      "Epoch 16/1000\n",
      "936/936 [==============================] - 11s 12ms/step - loss: 0.9807 - accuracy: 0.7328 - val_loss: 0.9042 - val_accuracy: 0.7503 - lr: 0.0010\n",
      "Epoch 17/1000\n",
      "936/936 [==============================] - 11s 12ms/step - loss: 0.9666 - accuracy: 0.7302 - val_loss: 0.9200 - val_accuracy: 0.7586 - lr: 0.0010\n",
      "Epoch 18/1000\n",
      "936/936 [==============================] - 11s 12ms/step - loss: 0.9584 - accuracy: 0.7379 - val_loss: 0.9243 - val_accuracy: 0.7546 - lr: 0.0010\n",
      "Epoch 19/1000\n",
      "936/936 [==============================] - 11s 12ms/step - loss: 0.9350 - accuracy: 0.7543 - val_loss: 0.8800 - val_accuracy: 0.7784 - lr: 1.0000e-04\n",
      "Epoch 20/1000\n",
      "936/936 [==============================] - 11s 12ms/step - loss: 0.9302 - accuracy: 0.7558 - val_loss: 0.8743 - val_accuracy: 0.7736 - lr: 1.0000e-04\n",
      "Epoch 21/1000\n",
      "936/936 [==============================] - 11s 12ms/step - loss: 0.9199 - accuracy: 0.7552 - val_loss: 0.8616 - val_accuracy: 0.7870 - lr: 1.0000e-04\n",
      "Epoch 22/1000\n",
      "936/936 [==============================] - 11s 12ms/step - loss: 0.9214 - accuracy: 0.7557 - val_loss: 0.8679 - val_accuracy: 0.7749 - lr: 1.0000e-04\n",
      "Epoch 23/1000\n",
      "936/936 [==============================] - 11s 12ms/step - loss: 0.9204 - accuracy: 0.7557 - val_loss: 0.8769 - val_accuracy: 0.7830 - lr: 1.0000e-04\n",
      "Epoch 24/1000\n",
      "936/936 [==============================] - 11s 12ms/step - loss: 0.9264 - accuracy: 0.7565 - val_loss: 0.8700 - val_accuracy: 0.7817 - lr: 1.0000e-05\n",
      "Epoch 25/1000\n",
      "936/936 [==============================] - 11s 12ms/step - loss: 0.9242 - accuracy: 0.7549 - val_loss: 0.8539 - val_accuracy: 0.7843 - lr: 1.0000e-05\n",
      "Epoch 26/1000\n",
      "936/936 [==============================] - 11s 12ms/step - loss: 0.9180 - accuracy: 0.7610 - val_loss: 0.8786 - val_accuracy: 0.7876 - lr: 1.0000e-05\n",
      "Epoch 27/1000\n",
      "936/936 [==============================] - 11s 12ms/step - loss: 0.9149 - accuracy: 0.7577 - val_loss: 0.8747 - val_accuracy: 0.7830 - lr: 1.0000e-05\n",
      "Epoch 28/1000\n",
      "936/936 [==============================] - 11s 12ms/step - loss: 0.9250 - accuracy: 0.7580 - val_loss: 0.8754 - val_accuracy: 0.7806 - lr: 1.0000e-05\n",
      "Epoch 29/1000\n",
      "936/936 [==============================] - 11s 12ms/step - loss: 0.9231 - accuracy: 0.7542 - val_loss: 0.8617 - val_accuracy: 0.7886 - lr: 1.0000e-05\n",
      "Epoch 30/1000\n",
      "936/936 [==============================] - 11s 12ms/step - loss: 0.9091 - accuracy: 0.7635 - val_loss: 0.8710 - val_accuracy: 0.7822 - lr: 1.0000e-05\n",
      "dict_keys(['loss', 'accuracy', 'val_loss', 'val_accuracy', 'lr'])\n"
     ]
    },
    {
     "data": {
      "image/png": "[encoded data removed]",
      "text/plain": [
       "<Figure size 432x288 with 1 Axes>"
      ]
     },
     "metadata": {
      "needs_background": "light"
     },
     "output_type": "display_data"
    }
   ],
   "source": [
    "es = tf.keras.callbacks.EarlyStopping(monitor='val_loss', \n",
    "                                      mode = 'auto', \n",
    "                                      patience=5,\n",
    "                                      restore_best_weights=True, \n",
    "                                     )\n",
    "reduce_lr = tf.keras.callbacks.ReduceLROnPlateau(monitor='val_loss', \n",
    "                              patience=2, min_lr=0.00001)\n",
    "\n",
    "log_dir = r\"C:\\Users\\offic\\Documents\\GitStuff\\NOTEMNIST\\logs\\fit\" + datetime.datetime.now().strftime(\"%d%m-%H%M\")\n",
    "tensorboard_callback = tf.keras.callbacks.TensorBoard(log_dir=log_dir, histogram_freq=1)\n",
    "\n",
    "\n",
    "history = model.fit(train_gen,\n",
    "                    steps_per_epoch = train_steps,\n",
    "                    epochs=1000, \n",
    "                    callbacks=[es, reduce_lr, tensorboard_callback],\n",
    "                    validation_data = test_gen,\n",
    "                    validation_steps = test_steps\n",
    "                   )\n",
    "\n",
    "print(history.history.keys())\n",
    "plt.plot(history.history['loss'])\n",
    "plt.plot(history.history['val_loss'])\n",
    "plt.title('CatCrEntr')\n",
    "plt.ylabel('CrEntr')\n",
    "plt.xlabel('epoch')\n",
    "plt.legend(['train', 'test'], loc='upper left')\n",
    "plt.show()"
   ]
  },
  {
   "cell_type": "code",
   "execution_count": 10,
   "metadata": {},
   "outputs": [
    {
     "name": "stdout",
     "output_type": "stream",
     "text": [
      "WARNING:tensorflow:From c:\\users\\offic\\venv\\lib\\site-packages\\tensorflow\\python\\ops\\resource_variable_ops.py:1813: calling BaseResourceVariable.__init__ (from tensorflow.python.ops.resource_variable_ops) with constraint is deprecated and will be removed in a future version.\n",
      "Instructions for updating:\n",
      "If using Keras pass *_constraint arguments to layers.\n",
      "INFO:tensorflow:Assets written to: C:\\Users\\offic\\Documents\\GitStuff\\NOTEMNIST\\mymodelsmallwz\\assets\n"
     ]
    }
   ],
   "source": [
    "model.save(r'C:\\Users\\offic\\Documents\\GitStuff\\NOTEMNIST\\mymodelsmallwz')"
   ]
  },
  {
   "cell_type": "code",
   "execution_count": null,
   "metadata": {},
   "outputs": [],
   "source": []
  }
 ],
 "metadata": {
  "kernelspec": {
   "display_name": "Python 3",
   "language": "python",
   "name": "python3"
  },
  "language_info": {
   "codemirror_mode": {
    "name": "ipython",
    "version": 3
   },
   "file_extension": ".py",
   "mimetype": "text/x-python",
   "name": "python",
   "nbconvert_exporter": "python",
   "pygments_lexer": "ipython3",
   "version": "3.8.3"
  }
 },
 "nbformat": 4,
 "nbformat_minor": 4
}
